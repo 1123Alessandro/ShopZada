{
 "cells": [
  {
   "cell_type": "markdown",
   "metadata": {},
   "source": [
    "### campaign_data.csv"
   ]
  },
  {
   "cell_type": "markdown",
   "metadata": {},
   "source": [
    "> To Fix:\n",
    "- [ ] Improper content formatting: each data is separated by \\t instead of comma\n",
    "- [ ] Inconsistent discount formatting: there are {'%', 'pct', '%%', 'percent'}\n",
    "- Remove Unnamed: 0 Column\n",
    "- [ ] Campaign name may be reformatted\n",
    "\n",
    ">Correct Format: \n",
    "- campaign_id \n",
    "- campaign_description "
   ]
  },
  {
   "cell_type": "markdown",
   "metadata": {},
   "source": [
    "### transactional_campaign_data.csv"
   ]
  },
  {
   "cell_type": "markdown",
   "metadata": {},
   "source": [
    "> To Fix:\n",
    "- [ ] Unnamed column ?\n",
    "- [ ] There are transaction_date that are beyond current date --- December 30, 2023 //sinasama din ba mga ganto\n",
    "- [ ] inconsistent name column estimated arrival --> change to estimated_arrival? \n",
    "\n",
    ">Correct Format: \n",
    "- campaign_id \n",
    "- order_id \n",
    "- availed   // okay lang ba na values yung 1/0 as boolean or mas readable yung words \n"
   ]
  },
  {
   "cell_type": "markdown",
   "metadata": {},
   "source": [
    "### Load Data"
   ]
  },
  {
   "cell_type": "code",
   "execution_count": null,
   "metadata": {},
   "outputs": [],
   "source": [
    "import pandas as pd\n",
    "from scripts.load import *"
   ]
  },
  {
   "cell_type": "code",
   "execution_count": null,
   "metadata": {},
   "outputs": [],
   "source": [
    "df_campaign = pd.read_csv('Project Dataset\\Marketing Department\\campaign_data.csv',sep='\\t')\n",
    "df_trans_campaign = all['transactional_campaign_data.csv']"
   ]
  },
  {
   "cell_type": "markdown",
   "metadata": {},
   "source": [
    "---\n",
    "### campaign_data.csv\n"
   ]
  },
  {
   "cell_type": "markdown",
   "metadata": {},
   "source": [
    "> To Fix:\n",
    "- [ ] Improper content formatting: each data is separated by \\t instead of comma\n",
    "- [ ] Inconsistent discount formatting: there are {'%', 'pct', '%%', 'percent'}\n",
    "- [ ] Campaign name may be reformatted\n",
    "\n",
    ">Correct Format: \n",
    "- campaign_id \n",
    "- campaign_description \n"
   ]
  },
  {
   "cell_type": "code",
   "execution_count": null,
   "metadata": {},
   "outputs": [],
   "source": [
    "df_campaign.head(10)"
   ]
  },
  {
   "cell_type": "code",
   "execution_count": null,
   "metadata": {},
   "outputs": [],
   "source": [
    "df_campaign.describe"
   ]
  },
  {
   "cell_type": "code",
   "execution_count": null,
   "metadata": {},
   "outputs": [],
   "source": [
    "print(df_campaign.shape)\n",
    "\n"
   ]
  },
  {
   "cell_type": "code",
   "execution_count": null,
   "metadata": {},
   "outputs": [],
   "source": [
    "print(df_campaign.nunique())"
   ]
  },
  {
   "cell_type": "code",
   "execution_count": null,
   "metadata": {},
   "outputs": [],
   "source": [
    "print(df_campaign.isna().sum())"
   ]
  },
  {
   "cell_type": "markdown",
   "metadata": {},
   "source": [
    "### transactional_campaign_data.csv"
   ]
  },
  {
   "cell_type": "markdown",
   "metadata": {},
   "source": [
    "> To Fix:\n",
    "- [ ] Unnamed column ?\n",
    "- [ ] There are transaction_date that are beyond current date --- December 30, 2023 //sinasama din ba mga ganto\n",
    "- [ ] inconsistent name column estimated arrival --> change to estimated_arrival? \n",
    "\n",
    ">Correct Format: \n",
    "- campaign_id \n",
    "- order_id \n",
    "- availed   // okay lang ba na values yung 1/0 as boolean or mas readable yung words \n"
   ]
  },
  {
   "cell_type": "code",
   "execution_count": null,
   "metadata": {},
   "outputs": [],
   "source": [
    "df_trans_campaign.sample(10)"
   ]
  },
  {
   "cell_type": "code",
   "execution_count": null,
   "metadata": {},
   "outputs": [],
   "source": [
    "df_trans_campaign[df_trans_campaign['availed']==False]"
   ]
  },
  {
   "cell_type": "code",
   "execution_count": null,
   "metadata": {},
   "outputs": [],
   "source": [
    "df_trans_campaign[df_trans_campaign['availed']==True]"
   ]
  },
  {
   "cell_type": "code",
   "execution_count": null,
   "metadata": {},
   "outputs": [],
   "source": [
    "df_trans_campaign['estimated arrival'].sort_values().sample(10)"
   ]
  },
  {
   "cell_type": "code",
   "execution_count": null,
   "metadata": {},
   "outputs": [],
   "source": [
    "df_trans_campaign['transaction_date'].sort_values(ascending=False)"
   ]
  },
  {
   "cell_type": "code",
   "execution_count": null,
   "metadata": {},
   "outputs": [],
   "source": [
    "print(df_trans_campaign.shape)"
   ]
  },
  {
   "cell_type": "code",
   "execution_count": null,
   "metadata": {},
   "outputs": [],
   "source": [
    "print(df_trans_campaign.nunique())"
   ]
  },
  {
   "cell_type": "code",
   "execution_count": null,
   "metadata": {},
   "outputs": [],
   "source": [
    "print(df_trans_campaign.duplicated().sort_values(ascending=False))"
   ]
  },
  {
   "cell_type": "code",
   "execution_count": null,
   "metadata": {},
   "outputs": [],
   "source": [
    "print(df_trans_campaign.isna().sum())"
   ]
  }
 ],
 "metadata": {
  "kernelspec": {
   "display_name": "Python 3",
   "language": "python",
   "name": "python3"
  },
  "language_info": {
   "codemirror_mode": {
    "name": "ipython",
    "version": 3
   },
   "file_extension": ".py",
   "mimetype": "text/x-python",
   "name": "python",
   "nbconvert_exporter": "python",
   "pygments_lexer": "ipython3",
   "version": "3.11.0"
  }
 },
 "nbformat": 4,
 "nbformat_minor": 2
}
