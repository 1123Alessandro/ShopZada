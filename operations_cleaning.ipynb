{
 "cells": [
  {
   "cell_type": "code",
   "execution_count": 1,
   "metadata": {},
   "outputs": [
    {
     "name": "stdout",
     "output_type": "stream",
     "text": [
      "Adding product_list.xlsx ...\n",
      "Adding user_credit_card.pickle ...\n",
      "Adding user_data.json ...\n",
      "Adding user_job.csv ...\n",
      "Adding merchant_data.html ...\n",
      "Adding order_with_merchant_data1.parquet ...\n",
      "Adding order_with_merchant_data2.parquet ...\n",
      "Adding order_with_merchant_data3.csv ...\n",
      "Adding staff_data.html ...\n",
      "Adding campaign_data.csv ...\n",
      "Adding transactional_campaign_data.csv ...\n",
      "Adding line_item_data_prices1.csv ...\n",
      "Adding line_item_data_prices2.csv ...\n",
      "Adding line_item_data_prices3.parquet ...\n",
      "Adding line_item_data_products1.csv ...\n",
      "Adding line_item_data_products2.csv ...\n",
      "Adding line_item_data_products3.parquet ...\n",
      "Adding order_data_20200101-20200701.parquet ...\n",
      "Adding order_data_20200701-20211001.pickle ...\n",
      "Adding order_data_20211001-20220101.csv ...\n",
      "Adding order_data_20220101-20221201.xlsx ...\n",
      "Adding order_data_20221201-20230601.json ...\n",
      "Adding order_data_20230601-20240101.html ...\n",
      "Adding order_delays.html ...\n",
      "\n",
      "\n",
      "\n",
      "--------------------------------------------------\n",
      "Read Complete\n",
      "Access the DataFrame of each file using the `all` dictionary\n",
      "e.g. all[\"filename\"]\n",
      "\n",
      "below are the available keys for access:\n",
      "1:\tproduct_list.xlsx\n",
      "2:\tuser_credit_card.pickle\n",
      "3:\tuser_data.json\n",
      "4:\tuser_job.csv\n",
      "5:\tmerchant_data.html\n",
      "6:\torder_with_merchant_data1.parquet\n",
      "7:\torder_with_merchant_data2.parquet\n",
      "8:\torder_with_merchant_data3.csv\n",
      "9:\tstaff_data.html\n",
      "10:\tcampaign_data.csv\n",
      "11:\ttransactional_campaign_data.csv\n",
      "12:\tline_item_data_prices1.csv\n",
      "13:\tline_item_data_prices2.csv\n",
      "14:\tline_item_data_prices3.parquet\n",
      "15:\tline_item_data_products1.csv\n",
      "16:\tline_item_data_products2.csv\n",
      "17:\tline_item_data_products3.parquet\n",
      "18:\torder_data_20200101-20200701.parquet\n",
      "19:\torder_data_20200701-20211001.pickle\n",
      "20:\torder_data_20211001-20220101.csv\n",
      "21:\torder_data_20220101-20221201.xlsx\n",
      "22:\torder_data_20221201-20230601.json\n",
      "23:\torder_data_20230601-20240101.html\n",
      "24:\torder_delays.html\n"
     ]
    }
   ],
   "source": [
    "import pandas as pd\n",
    "from scripts.load import *"
   ]
  },
  {
   "cell_type": "markdown",
   "metadata": {},
   "source": [
    "### Cleaning line item products"
   ]
  },
  {
   "cell_type": "code",
   "execution_count": 2,
   "metadata": {},
   "outputs": [
    {
     "data": {
      "text/plain": [
       "Unnamed: 0      997174\n",
       "order_id        252475\n",
       "product_name       582\n",
       "product_id         641\n",
       "dtype: int64"
      ]
     },
     "execution_count": 2,
     "metadata": {},
     "output_type": "execute_result"
    }
   ],
   "source": [
    "#Cleaning line item products\n",
    "df_item_products1 = all['line_item_data_products1.csv']\n",
    "df_item_products2 = all['line_item_data_products2.csv']\n",
    "df_item_products3 = all['line_item_data_products3.parquet']\n",
    "df_item_products3.nunique()"
   ]
  },
  {
   "cell_type": "code",
   "execution_count": 3,
   "metadata": {},
   "outputs": [],
   "source": [
    "#Combining line item product files\n",
    "df_item_products = pd.concat([df_item_products1, df_item_products2])\n"
   ]
  },
  {
   "cell_type": "code",
   "execution_count": 4,
   "metadata": {},
   "outputs": [
    {
     "name": "stdout",
     "output_type": "stream",
     "text": [
      "(1000000, 4)\n",
      "Unnamed: 0      1000000\n",
      "order_id         234141\n",
      "product_name        583\n",
      "product_id          644\n",
      "dtype: int64\n",
      "Unnamed: 0      0\n",
      "order_id        0\n",
      "product_name    0\n",
      "product_id      0\n",
      "dtype: int64\n"
     ]
    }
   ],
   "source": [
    "print(df_item_products.shape)\n",
    "print(df_item_products.nunique())\n",
    "print(df_item_products.isna().sum())"
   ]
  },
  {
   "cell_type": "code",
   "execution_count": 5,
   "metadata": {},
   "outputs": [],
   "source": [
    "#Remove Unnamed: 0 column\n",
    "df_item_products = df_item_products.drop('Unnamed: 0', axis=1)"
   ]
  },
  {
   "cell_type": "code",
   "execution_count": 6,
   "metadata": {},
   "outputs": [],
   "source": [
    "#Dropping duplicates based on order_id, keep no empty values\n",
    "df_item_products = df_item_products.drop_duplicates(subset=['order_id'])"
   ]
  },
  {
   "cell_type": "code",
   "execution_count": 7,
   "metadata": {},
   "outputs": [
    {
     "name": "stdout",
     "output_type": "stream",
     "text": [
      "(234141, 3)\n",
      "order_id        234141\n",
      "product_name       576\n",
      "product_id         644\n",
      "dtype: int64\n",
      "order_id        0\n",
      "product_name    0\n",
      "product_id      0\n",
      "dtype: int64\n"
     ]
    }
   ],
   "source": [
    "#line item products data cleaned completely, to check:\n",
    "print(df_item_products.shape)\n",
    "print(df_item_products.nunique())\n",
    "print(df_item_products.isna().sum())"
   ]
  },
  {
   "cell_type": "code",
   "execution_count": 8,
   "metadata": {},
   "outputs": [],
   "source": [
    "df_item_products.to_parquet('parquet/clean_line_item_products.parquet')"
   ]
  },
  {
   "cell_type": "markdown",
   "metadata": {},
   "source": [
    "### Cleaning line item prices"
   ]
  },
  {
   "cell_type": "code",
   "execution_count": 9,
   "metadata": {},
   "outputs": [
    {
     "name": "stdout",
     "output_type": "stream",
     "text": [
      "(500000, 4)\n",
      "Unnamed: 0    500000\n",
      "order_id      115392\n",
      "price            239\n",
      "quantity          60\n",
      "dtype: int64\n",
      "Unnamed: 0    0\n",
      "order_id      0\n",
      "price         0\n",
      "quantity      0\n",
      "dtype: int64\n"
     ]
    }
   ],
   "source": [
    "#Cleaning line item prices\n",
    "df_item_prices1 = all['line_item_data_prices1.csv']\n",
    "df_item_prices2 = all['line_item_data_prices2.csv']\n",
    "df_item_prices3 = all['line_item_data_prices3.parquet']\n",
    "\n",
    "print(df_item_prices1.shape)\n",
    "print(df_item_prices1.nunique())\n",
    "print(df_item_prices1.isna().sum())"
   ]
  },
  {
   "cell_type": "code",
   "execution_count": 10,
   "metadata": {},
   "outputs": [
    {
     "name": "stdout",
     "output_type": "stream",
     "text": [
      "(500000, 4)\n",
      "Unnamed: 0    500000\n",
      "order_id      118857\n",
      "price            238\n",
      "quantity          60\n",
      "dtype: int64\n",
      "Unnamed: 0    0\n",
      "order_id      0\n",
      "price         0\n",
      "quantity      0\n",
      "dtype: int64\n"
     ]
    }
   ],
   "source": [
    "print(df_item_prices2.shape)\n",
    "print(df_item_prices2.nunique())\n",
    "print(df_item_prices2.isna().sum())"
   ]
  },
  {
   "cell_type": "code",
   "execution_count": 11,
   "metadata": {},
   "outputs": [
    {
     "name": "stdout",
     "output_type": "stream",
     "text": [
      "(997174, 4)\n",
      "Unnamed: 0    997174\n",
      "order_id      252475\n",
      "price            236\n",
      "quantity          60\n",
      "dtype: int64\n",
      "Unnamed: 0    0\n",
      "order_id      0\n",
      "price         0\n",
      "quantity      0\n",
      "dtype: int64\n"
     ]
    }
   ],
   "source": [
    "print(df_item_prices3.shape)\n",
    "print(df_item_prices3.nunique())\n",
    "print(df_item_prices3.isna().sum())"
   ]
  },
  {
   "cell_type": "code",
   "execution_count": 12,
   "metadata": {},
   "outputs": [
    {
     "data": {
      "text/html": [
       "<div>\n",
       "<style scoped>\n",
       "    .dataframe tbody tr th:only-of-type {\n",
       "        vertical-align: middle;\n",
       "    }\n",
       "\n",
       "    .dataframe tbody tr th {\n",
       "        vertical-align: top;\n",
       "    }\n",
       "\n",
       "    .dataframe thead th {\n",
       "        text-align: right;\n",
       "    }\n",
       "</style>\n",
       "<table border=\"1\" class=\"dataframe\">\n",
       "  <thead>\n",
       "    <tr style=\"text-align: right;\">\n",
       "      <th></th>\n",
       "      <th>Unnamed: 0</th>\n",
       "      <th>order_id</th>\n",
       "      <th>price</th>\n",
       "      <th>quantity</th>\n",
       "    </tr>\n",
       "  </thead>\n",
       "  <tbody>\n",
       "    <tr>\n",
       "      <th>116216</th>\n",
       "      <td>616216</td>\n",
       "      <td>a49fe85d-7608-4981-b706-2b270f14ab53</td>\n",
       "      <td>38.07</td>\n",
       "      <td>2pcs</td>\n",
       "    </tr>\n",
       "    <tr>\n",
       "      <th>299764</th>\n",
       "      <td>799764</td>\n",
       "      <td>429ede2a-c641-423a-9884-5e234b837c66</td>\n",
       "      <td>38.07</td>\n",
       "      <td>3PCs</td>\n",
       "    </tr>\n",
       "    <tr>\n",
       "      <th>162428</th>\n",
       "      <td>662428</td>\n",
       "      <td>9c3f23a8-2e89-4340-8405-cc16f786d321</td>\n",
       "      <td>17.28</td>\n",
       "      <td>2pcs</td>\n",
       "    </tr>\n",
       "    <tr>\n",
       "      <th>100940</th>\n",
       "      <td>600940</td>\n",
       "      <td>d53f0cff-b68d-411a-9e4a-57366eb9b7f5</td>\n",
       "      <td>6.11</td>\n",
       "      <td>8PC</td>\n",
       "    </tr>\n",
       "    <tr>\n",
       "      <th>476404</th>\n",
       "      <td>976404</td>\n",
       "      <td>9e2a53ae-79e6-4354-8338-4a7181cd7343</td>\n",
       "      <td>38.07</td>\n",
       "      <td>2pieces</td>\n",
       "    </tr>\n",
       "    <tr>\n",
       "      <th>477662</th>\n",
       "      <td>977662</td>\n",
       "      <td>0e4286d6-8ad9-4174-8f93-515bce55f983</td>\n",
       "      <td>31.64</td>\n",
       "      <td>3pcs</td>\n",
       "    </tr>\n",
       "    <tr>\n",
       "      <th>83677</th>\n",
       "      <td>583677</td>\n",
       "      <td>1c5d1364-fc00-46f2-8899-5687a02e1623</td>\n",
       "      <td>17.28</td>\n",
       "      <td>2pieces</td>\n",
       "    </tr>\n",
       "    <tr>\n",
       "      <th>424802</th>\n",
       "      <td>924802</td>\n",
       "      <td>3ea77864-2dd3-4b5c-af36-05ef864dd333</td>\n",
       "      <td>38.07</td>\n",
       "      <td>1PCs</td>\n",
       "    </tr>\n",
       "    <tr>\n",
       "      <th>216562</th>\n",
       "      <td>716562</td>\n",
       "      <td>f53e6454-184f-4113-a8a5-4010534ff7f7</td>\n",
       "      <td>17.28</td>\n",
       "      <td>3PC</td>\n",
       "    </tr>\n",
       "    <tr>\n",
       "      <th>397731</th>\n",
       "      <td>897731</td>\n",
       "      <td>574bd2e7-b0aa-48ce-b2e0-7979978ec73b</td>\n",
       "      <td>6.22</td>\n",
       "      <td>3pcs</td>\n",
       "    </tr>\n",
       "    <tr>\n",
       "      <th>468483</th>\n",
       "      <td>968483</td>\n",
       "      <td>e20928f3-7a50-4bc9-aedd-4022778cc1c5</td>\n",
       "      <td>17.28</td>\n",
       "      <td>1pcs</td>\n",
       "    </tr>\n",
       "    <tr>\n",
       "      <th>488842</th>\n",
       "      <td>988842</td>\n",
       "      <td>efba8356-53fe-4d3a-9d92-abb36a31c572</td>\n",
       "      <td>5.74</td>\n",
       "      <td>4PCs</td>\n",
       "    </tr>\n",
       "    <tr>\n",
       "      <th>403423</th>\n",
       "      <td>903423</td>\n",
       "      <td>9671a728-456c-44e8-b128-41c1fcb937f4</td>\n",
       "      <td>17.28</td>\n",
       "      <td>4PC</td>\n",
       "    </tr>\n",
       "    <tr>\n",
       "      <th>79845</th>\n",
       "      <td>579845</td>\n",
       "      <td>1c9f0d56-b85a-49f5-b36f-da0c03a6879f</td>\n",
       "      <td>8.09</td>\n",
       "      <td>4pieces</td>\n",
       "    </tr>\n",
       "    <tr>\n",
       "      <th>101477</th>\n",
       "      <td>601477</td>\n",
       "      <td>f6db7273-ca73-46f4-b70f-b0a9c196bdb9</td>\n",
       "      <td>17.28</td>\n",
       "      <td>4PC</td>\n",
       "    </tr>\n",
       "    <tr>\n",
       "      <th>398918</th>\n",
       "      <td>898918</td>\n",
       "      <td>b212bc59-4dd8-4a35-9a9e-ef8a75670c1b</td>\n",
       "      <td>17.28</td>\n",
       "      <td>3px</td>\n",
       "    </tr>\n",
       "    <tr>\n",
       "      <th>143325</th>\n",
       "      <td>643325</td>\n",
       "      <td>d3732839-676f-46fe-95b7-de7556ffb09f</td>\n",
       "      <td>17.28</td>\n",
       "      <td>1pcs</td>\n",
       "    </tr>\n",
       "    <tr>\n",
       "      <th>17354</th>\n",
       "      <td>517354</td>\n",
       "      <td>36d77ac0-bf6e-41a8-8d70-9826416d67b1</td>\n",
       "      <td>5.74</td>\n",
       "      <td>4PC</td>\n",
       "    </tr>\n",
       "    <tr>\n",
       "      <th>51163</th>\n",
       "      <td>551163</td>\n",
       "      <td>6b1bdbe9-cd64-4b91-b83e-8ef123bfd82d</td>\n",
       "      <td>6.11</td>\n",
       "      <td>3px</td>\n",
       "    </tr>\n",
       "    <tr>\n",
       "      <th>375402</th>\n",
       "      <td>875402</td>\n",
       "      <td>b4bc6e0c-b7d2-483d-a334-fa902e22854f</td>\n",
       "      <td>5.74</td>\n",
       "      <td>5PCs</td>\n",
       "    </tr>\n",
       "  </tbody>\n",
       "</table>\n",
       "</div>"
      ],
      "text/plain": [
       "        Unnamed: 0                              order_id  price quantity\n",
       "116216      616216  a49fe85d-7608-4981-b706-2b270f14ab53  38.07     2pcs\n",
       "299764      799764  429ede2a-c641-423a-9884-5e234b837c66  38.07     3PCs\n",
       "162428      662428  9c3f23a8-2e89-4340-8405-cc16f786d321  17.28     2pcs\n",
       "100940      600940  d53f0cff-b68d-411a-9e4a-57366eb9b7f5   6.11      8PC\n",
       "476404      976404  9e2a53ae-79e6-4354-8338-4a7181cd7343  38.07  2pieces\n",
       "477662      977662  0e4286d6-8ad9-4174-8f93-515bce55f983  31.64     3pcs\n",
       "83677       583677  1c5d1364-fc00-46f2-8899-5687a02e1623  17.28  2pieces\n",
       "424802      924802  3ea77864-2dd3-4b5c-af36-05ef864dd333  38.07     1PCs\n",
       "216562      716562  f53e6454-184f-4113-a8a5-4010534ff7f7  17.28      3PC\n",
       "397731      897731  574bd2e7-b0aa-48ce-b2e0-7979978ec73b   6.22     3pcs\n",
       "468483      968483  e20928f3-7a50-4bc9-aedd-4022778cc1c5  17.28     1pcs\n",
       "488842      988842  efba8356-53fe-4d3a-9d92-abb36a31c572   5.74     4PCs\n",
       "403423      903423  9671a728-456c-44e8-b128-41c1fcb937f4  17.28      4PC\n",
       "79845       579845  1c9f0d56-b85a-49f5-b36f-da0c03a6879f   8.09  4pieces\n",
       "101477      601477  f6db7273-ca73-46f4-b70f-b0a9c196bdb9  17.28      4PC\n",
       "398918      898918  b212bc59-4dd8-4a35-9a9e-ef8a75670c1b  17.28      3px\n",
       "143325      643325  d3732839-676f-46fe-95b7-de7556ffb09f  17.28     1pcs\n",
       "17354       517354  36d77ac0-bf6e-41a8-8d70-9826416d67b1   5.74      4PC\n",
       "51163       551163  6b1bdbe9-cd64-4b91-b83e-8ef123bfd82d   6.11      3px\n",
       "375402      875402  b4bc6e0c-b7d2-483d-a334-fa902e22854f   5.74     5PCs"
      ]
     },
     "execution_count": 12,
     "metadata": {},
     "output_type": "execute_result"
    }
   ],
   "source": [
    "df_item_prices2.sample(20)"
   ]
  },
  {
   "cell_type": "code",
   "execution_count": null,
   "metadata": {},
   "outputs": [],
   "source": []
  },
  {
   "cell_type": "code",
   "execution_count": null,
   "metadata": {},
   "outputs": [],
   "source": []
  },
  {
   "cell_type": "code",
   "execution_count": null,
   "metadata": {},
   "outputs": [],
   "source": []
  },
  {
   "cell_type": "markdown",
   "metadata": {},
   "source": [
    "### Cleaning order data"
   ]
  },
  {
   "cell_type": "markdown",
   "metadata": {},
   "source": [
    "### Cleaning order delays"
   ]
  },
  {
   "cell_type": "markdown",
   "metadata": {},
   "source": []
  }
 ],
 "metadata": {
  "kernelspec": {
   "display_name": "Python 3",
   "language": "python",
   "name": "python3"
  },
  "language_info": {
   "codemirror_mode": {
    "name": "ipython",
    "version": 3
   },
   "file_extension": ".py",
   "mimetype": "text/x-python",
   "name": "python",
   "nbconvert_exporter": "python",
   "pygments_lexer": "ipython3",
   "version": "3.11.6"
  }
 },
 "nbformat": 4,
 "nbformat_minor": 2
}
