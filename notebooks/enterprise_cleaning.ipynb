{
 "cells": [
  {
   "cell_type": "code",
   "execution_count": null,
   "metadata": {},
   "outputs": [],
   "source": [
    "import pandas as pd\n",
    "from scripts.load import *"
   ]
  },
  {
   "cell_type": "markdown",
   "metadata": {},
   "source": [
    "### Cleaning order data"
   ]
  },
  {
   "cell_type": "code",
   "execution_count": null,
   "metadata": {},
   "outputs": [],
   "source": [
    "##Cleaning order data\n",
    "df_order1 = all['order_with_merchant_data1.parquet']\n",
    "df_order2 = all['order_with_merchant_data2.parquet']\n",
    "df_order3 = all['order_with_merchant_data3.csv']\n",
    "\n",
    "print(df_order1.shape)\n",
    "print(df_order2.shape)\n",
    "print(df_order3.shape)"
   ]
  },
  {
   "cell_type": "code",
   "execution_count": null,
   "metadata": {},
   "outputs": [],
   "source": [
    "#Drop unnecessary indexing\n",
    "df_order3 = df_order3.drop(columns=['Unnamed: 0'])"
   ]
  },
  {
   "cell_type": "code",
   "execution_count": null,
   "metadata": {},
   "outputs": [],
   "source": [
    "#Combine all order files\n",
    "df_orders = pd.concat([df_order1, df_order2, df_order3], ignore_index=True)"
   ]
  },
  {
   "cell_type": "code",
   "execution_count": null,
   "metadata": {},
   "outputs": [],
   "source": [
    "#order_with_merchant_data 1-3 cleaned completely, to check:\n",
    "print(df_orders.shape)\n",
    "print(df_orders.nunique())\n",
    "print(df_orders.isna().sum())"
   ]
  },
  {
   "cell_type": "markdown",
   "metadata": {},
   "source": [
    "### Cleaning merchant data"
   ]
  },
  {
   "cell_type": "code",
   "execution_count": null,
   "metadata": {},
   "outputs": [],
   "source": [
    "# Cleaning merchant data\n",
    "df_merchant_data = all['merchant_data.html'][0]\n",
    "\n",
    "print(df_merchant_data.shape)\n",
    "print(df_merchant_data.nunique())\n",
    "print(df_merchant_data.isna().sum())"
   ]
  },
  {
   "cell_type": "code",
   "execution_count": null,
   "metadata": {},
   "outputs": [],
   "source": [
    "#Remove Unnamed: 0 column\n",
    "df_merchant_data = df_merchant_data.drop('Unnamed: 0', axis=1)"
   ]
  },
  {
   "cell_type": "code",
   "execution_count": null,
   "metadata": {},
   "outputs": [],
   "source": [
    "#Remove duplicates based on merchant_id, keep first instance based on creation_date\n",
    "df_merchant_data = df_merchant_data.sort_values(by=['merchant_id', 'creation_date']).drop_duplicates(subset=['merchant_id'], keep='first')"
   ]
  },
  {
   "cell_type": "code",
   "execution_count": null,
   "metadata": {},
   "outputs": [],
   "source": [
    "#Standardize contact_number\n",
    "df_merchant_data['contact_number'] = df_merchant_data['contact_number'].str.replace('\\.', '-', regex=True)\n",
    "df_merchant_data['contact_number'] = df_merchant_data['contact_number'].str.replace('[^0-9+()-]', '', regex=True)"
   ]
  },
  {
   "cell_type": "code",
   "execution_count": null,
   "metadata": {},
   "outputs": [],
   "source": [
    "#Title case for address except for country\n",
    "df_merchant_data['street'] = df_merchant_data['street'].str.title()\n",
    "df_merchant_data['state'] = df_merchant_data['state'].str.title()\n",
    "df_merchant_data['city'] = df_merchant_data['city'].str.title()\n"
   ]
  },
  {
   "cell_type": "code",
   "execution_count": null,
   "metadata": {},
   "outputs": [],
   "source": [
    "#merchant data cleaned completely, to check:\n",
    "print(df_merchant_data.shape)\n",
    "print(df_merchant_data.nunique())\n",
    "print(df_merchant_data.isna().sum())"
   ]
  },
  {
   "cell_type": "markdown",
   "metadata": {},
   "source": [
    "### Cleaning staff data"
   ]
  },
  {
   "cell_type": "code",
   "execution_count": null,
   "metadata": {},
   "outputs": [],
   "source": [
    "# Cleaning staff data\n",
    "df_staff_data = all['staff_data.html'][0]\n",
    "\n",
    "print(df_staff_data.shape)\n",
    "print(df_staff_data.nunique())\n",
    "print(df_staff_data.isna().sum())"
   ]
  },
  {
   "cell_type": "code",
   "execution_count": null,
   "metadata": {},
   "outputs": [],
   "source": [
    "#Remove Unnamed: 0 column\n",
    "df_staff_data = df_staff_data.drop('Unnamed: 0', axis=1)"
   ]
  },
  {
   "cell_type": "code",
   "execution_count": null,
   "metadata": {},
   "outputs": [],
   "source": [
    "#Remove duplicates based on staff_id, keep first instance based on creation_date\n",
    "df_staff_data = df_staff_data.sort_values(by=['staff_id', 'creation_date']).drop_duplicates(subset=['staff_id'], keep='first')"
   ]
  },
  {
   "cell_type": "code",
   "execution_count": null,
   "metadata": {},
   "outputs": [],
   "source": [
    "#Standardize contact_number\n",
    "df_staff_data['contact_number'] = df_staff_data['contact_number'].str.replace('\\.', '-', regex=True)\n",
    "df_staff_data['contact_number'] = df_staff_data['contact_number'].str.replace('[^0-9+()-]', '', regex=True)"
   ]
  },
  {
   "cell_type": "code",
   "execution_count": null,
   "metadata": {},
   "outputs": [],
   "source": [
    "#Standardize strings, use title case except for country\n",
    "df_staff_data['name'] = df_staff_data['name'].str.title()\n",
    "df_staff_data['job_level'] = df_staff_data['job_level'].str.title()\n",
    "df_staff_data['street'] = df_staff_data['street'].str.title()\n",
    "df_staff_data['state'] = df_staff_data['state'].str.title()\n",
    "df_staff_data['city'] = df_staff_data['city'].str.title()"
   ]
  },
  {
   "cell_type": "code",
   "execution_count": null,
   "metadata": {},
   "outputs": [],
   "source": [
    "#merchant data cleaned completely, to check:\n",
    "print(df_staff_data.shape)\n",
    "print(df_staff_data.nunique())\n",
    "print(df_staff_data.isna().sum())"
   ]
  }
 ],
 "metadata": {
  "kernelspec": {
   "display_name": "Python 3",
   "language": "python",
   "name": "python3"
  },
  "language_info": {
   "codemirror_mode": {
    "name": "ipython",
    "version": 3
   },
   "file_extension": ".py",
   "mimetype": "text/x-python",
   "name": "python",
   "nbconvert_exporter": "python",
   "pygments_lexer": "ipython3",
   "version": "3.11.6"
  }
 },
 "nbformat": 4,
 "nbformat_minor": 2
}
