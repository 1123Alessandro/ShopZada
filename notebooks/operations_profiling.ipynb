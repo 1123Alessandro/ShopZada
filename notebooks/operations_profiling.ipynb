{
 "cells": [
  {
   "cell_type": "code",
   "execution_count": 1,
   "metadata": {},
   "outputs": [
    {
     "name": "stdout",
     "output_type": "stream",
     "text": [
      "Adding product_list.xlsx ...\n",
      "Adding user_credit_card.pickle ...\n",
      "Adding user_data.json ...\n",
      "Adding user_job.csv ...\n",
      "Adding merchant_data.html ...\n",
      "Adding order_with_merchant_data1.parquet ...\n",
      "Adding order_with_merchant_data2.parquet ...\n",
      "Adding order_with_merchant_data3.csv ...\n",
      "Adding staff_data.html ...\n",
      "Adding campaign_data.csv ...\n",
      "Adding transactional_campaign_data.csv ...\n",
      "Adding line_item_data_prices1.csv ...\n",
      "Adding line_item_data_prices2.csv ...\n",
      "Adding line_item_data_prices3.parquet ...\n",
      "Adding line_item_data_products1.csv ...\n",
      "Adding line_item_data_products2.csv ...\n",
      "Adding line_item_data_products3.parquet ...\n",
      "Adding order_data_20200101-20200701.parquet ...\n",
      "Adding order_data_20200701-20211001.pickle ...\n",
      "Adding order_data_20211001-20220101.csv ...\n",
      "Adding order_data_20220101-20221201.xlsx ...\n",
      "Adding order_data_20221201-20230601.json ...\n",
      "Adding order_data_20230601-20240101.html ...\n",
      "Adding order_delays.html ...\n",
      "\n",
      "\n",
      "\n",
      "--------------------------------------------------\n",
      "Read Complete\n",
      "Access the DataFrame of each file using the `all` dictionary\n",
      "e.g. all[\"filename\"]\n",
      "\n",
      "below are the available keys for access:\n",
      "1:\tproduct_list.xlsx\n",
      "2:\tuser_credit_card.pickle\n",
      "3:\tuser_data.json\n",
      "4:\tuser_job.csv\n",
      "5:\tmerchant_data.html\n",
      "6:\torder_with_merchant_data1.parquet\n",
      "7:\torder_with_merchant_data2.parquet\n",
      "8:\torder_with_merchant_data3.csv\n",
      "9:\tstaff_data.html\n",
      "10:\tcampaign_data.csv\n",
      "11:\ttransactional_campaign_data.csv\n",
      "12:\tline_item_data_prices1.csv\n",
      "13:\tline_item_data_prices2.csv\n",
      "14:\tline_item_data_prices3.parquet\n",
      "15:\tline_item_data_products1.csv\n",
      "16:\tline_item_data_products2.csv\n",
      "17:\tline_item_data_products3.parquet\n",
      "18:\torder_data_20200101-20200701.parquet\n",
      "19:\torder_data_20200701-20211001.pickle\n",
      "20:\torder_data_20211001-20220101.csv\n",
      "21:\torder_data_20220101-20221201.xlsx\n",
      "22:\torder_data_20221201-20230601.json\n",
      "23:\torder_data_20230601-20240101.html\n",
      "24:\torder_delays.html\n"
     ]
    }
   ],
   "source": [
    "import pandas as pd\n",
    "from scripts.load import *"
   ]
  },
  {
   "cell_type": "markdown",
   "metadata": {},
   "source": [
    "### line_item_data_prices1"
   ]
  },
  {
   "cell_type": "code",
   "execution_count": 2,
   "metadata": {},
   "outputs": [],
   "source": [
    "prices1 = all['line_item_data_prices1.csv']"
   ]
  },
  {
   "cell_type": "code",
   "execution_count": 3,
   "metadata": {},
   "outputs": [
    {
     "data": {
      "text/html": [
       "<div>\n",
       "<style scoped>\n",
       "    .dataframe tbody tr th:only-of-type {\n",
       "        vertical-align: middle;\n",
       "    }\n",
       "\n",
       "    .dataframe tbody tr th {\n",
       "        vertical-align: top;\n",
       "    }\n",
       "\n",
       "    .dataframe thead th {\n",
       "        text-align: right;\n",
       "    }\n",
       "</style>\n",
       "<table border=\"1\" class=\"dataframe\">\n",
       "  <thead>\n",
       "    <tr style=\"text-align: right;\">\n",
       "      <th></th>\n",
       "      <th>Unnamed: 0</th>\n",
       "      <th>order_id</th>\n",
       "      <th>price</th>\n",
       "      <th>quantity</th>\n",
       "    </tr>\n",
       "  </thead>\n",
       "  <tbody>\n",
       "    <tr>\n",
       "      <th>0</th>\n",
       "      <td>0</td>\n",
       "      <td>8d8acbac-ccbb-4609-a978-98dee3ac3088</td>\n",
       "      <td>12.81</td>\n",
       "      <td>6px</td>\n",
       "    </tr>\n",
       "    <tr>\n",
       "      <th>1</th>\n",
       "      <td>1</td>\n",
       "      <td>59e4c308-5262-486d-9f1a-12b1278e3c44</td>\n",
       "      <td>14.00</td>\n",
       "      <td>6pieces</td>\n",
       "    </tr>\n",
       "    <tr>\n",
       "      <th>2</th>\n",
       "      <td>2</td>\n",
       "      <td>30fc1b76-c488-4077-8d70-3236e3afc990</td>\n",
       "      <td>6.78</td>\n",
       "      <td>4pcs</td>\n",
       "    </tr>\n",
       "    <tr>\n",
       "      <th>3</th>\n",
       "      <td>3</td>\n",
       "      <td>6b273d38-b472-4bb2-8b74-a26705c707fa</td>\n",
       "      <td>8.72</td>\n",
       "      <td>4px</td>\n",
       "    </tr>\n",
       "    <tr>\n",
       "      <th>4</th>\n",
       "      <td>4</td>\n",
       "      <td>6b273d38-b472-4bb2-8b74-a26705c707fa</td>\n",
       "      <td>8.83</td>\n",
       "      <td>5pieces</td>\n",
       "    </tr>\n",
       "    <tr>\n",
       "      <th>...</th>\n",
       "      <td>...</td>\n",
       "      <td>...</td>\n",
       "      <td>...</td>\n",
       "      <td>...</td>\n",
       "    </tr>\n",
       "    <tr>\n",
       "      <th>499995</th>\n",
       "      <td>499995</td>\n",
       "      <td>61c1751e-f17b-494a-a9a2-33c6694d6036</td>\n",
       "      <td>38.07</td>\n",
       "      <td>1piece</td>\n",
       "    </tr>\n",
       "    <tr>\n",
       "      <th>499996</th>\n",
       "      <td>499996</td>\n",
       "      <td>61c1751e-f17b-494a-a9a2-33c6694d6036</td>\n",
       "      <td>38.07</td>\n",
       "      <td>3pcs</td>\n",
       "    </tr>\n",
       "    <tr>\n",
       "      <th>499997</th>\n",
       "      <td>499997</td>\n",
       "      <td>44f739c2-73f4-491c-a932-c1362831e0e3</td>\n",
       "      <td>38.07</td>\n",
       "      <td>1pieces</td>\n",
       "    </tr>\n",
       "    <tr>\n",
       "      <th>499998</th>\n",
       "      <td>499998</td>\n",
       "      <td>44f739c2-73f4-491c-a932-c1362831e0e3</td>\n",
       "      <td>38.07</td>\n",
       "      <td>1PC</td>\n",
       "    </tr>\n",
       "    <tr>\n",
       "      <th>499999</th>\n",
       "      <td>499999</td>\n",
       "      <td>f1c591a5-fd7c-498f-ae4e-2739334878ce</td>\n",
       "      <td>38.07</td>\n",
       "      <td>1pieces</td>\n",
       "    </tr>\n",
       "  </tbody>\n",
       "</table>\n",
       "<p>500000 rows × 4 columns</p>\n",
       "</div>"
      ],
      "text/plain": [
       "        Unnamed: 0                              order_id  price quantity\n",
       "0                0  8d8acbac-ccbb-4609-a978-98dee3ac3088  12.81      6px\n",
       "1                1  59e4c308-5262-486d-9f1a-12b1278e3c44  14.00  6pieces\n",
       "2                2  30fc1b76-c488-4077-8d70-3236e3afc990   6.78     4pcs\n",
       "3                3  6b273d38-b472-4bb2-8b74-a26705c707fa   8.72      4px\n",
       "4                4  6b273d38-b472-4bb2-8b74-a26705c707fa   8.83  5pieces\n",
       "...            ...                                   ...    ...      ...\n",
       "499995      499995  61c1751e-f17b-494a-a9a2-33c6694d6036  38.07   1piece\n",
       "499996      499996  61c1751e-f17b-494a-a9a2-33c6694d6036  38.07     3pcs\n",
       "499997      499997  44f739c2-73f4-491c-a932-c1362831e0e3  38.07  1pieces\n",
       "499998      499998  44f739c2-73f4-491c-a932-c1362831e0e3  38.07      1PC\n",
       "499999      499999  f1c591a5-fd7c-498f-ae4e-2739334878ce  38.07  1pieces\n",
       "\n",
       "[500000 rows x 4 columns]"
      ]
     },
     "execution_count": 3,
     "metadata": {},
     "output_type": "execute_result"
    }
   ],
   "source": [
    "prices1"
   ]
  },
  {
   "cell_type": "code",
   "execution_count": 4,
   "metadata": {},
   "outputs": [
    {
     "data": {
      "text/plain": [
       "0             6px\n",
       "1         6pieces\n",
       "2            4pcs\n",
       "3             4px\n",
       "4         5pieces\n",
       "           ...   \n",
       "499995     1piece\n",
       "499996       3pcs\n",
       "499997    1pieces\n",
       "499998        1PC\n",
       "499999    1pieces\n",
       "Name: quantity, Length: 500000, dtype: object"
      ]
     },
     "execution_count": 4,
     "metadata": {},
     "output_type": "execute_result"
    }
   ],
   "source": [
    "# quantity not conformed\n",
    "\n",
    "prices1['quantity']"
   ]
  },
  {
   "cell_type": "code",
   "execution_count": 5,
   "metadata": {},
   "outputs": [],
   "source": [
    "# trim and regex\n",
    "\n",
    "#prices1[\"quantity\"] = prices1[\"quantity\"].str.replace(r'\\D', '', regex=True)"
   ]
  },
  {
   "cell_type": "code",
   "execution_count": 6,
   "metadata": {},
   "outputs": [
    {
     "data": {
      "text/plain": [
       "(500000, 4)"
      ]
     },
     "execution_count": 6,
     "metadata": {},
     "output_type": "execute_result"
    }
   ],
   "source": [
    "# confirm shape\n",
    "\n",
    "prices1.shape"
   ]
  },
  {
   "cell_type": "code",
   "execution_count": 7,
   "metadata": {},
   "outputs": [
    {
     "data": {
      "text/plain": [
       "115392"
      ]
     },
     "execution_count": 7,
     "metadata": {},
     "output_type": "execute_result"
    }
   ],
   "source": [
    "# checking for duplicates\n",
    "\n",
    "prices1['order_id'].nunique()"
   ]
  },
  {
   "cell_type": "code",
   "execution_count": 8,
   "metadata": {},
   "outputs": [
    {
     "data": {
      "text/html": [
       "<div>\n",
       "<style scoped>\n",
       "    .dataframe tbody tr th:only-of-type {\n",
       "        vertical-align: middle;\n",
       "    }\n",
       "\n",
       "    .dataframe tbody tr th {\n",
       "        vertical-align: top;\n",
       "    }\n",
       "\n",
       "    .dataframe thead th {\n",
       "        text-align: right;\n",
       "    }\n",
       "</style>\n",
       "<table border=\"1\" class=\"dataframe\">\n",
       "  <thead>\n",
       "    <tr style=\"text-align: right;\">\n",
       "      <th></th>\n",
       "      <th>Unnamed: 0</th>\n",
       "      <th>order_id</th>\n",
       "      <th>price</th>\n",
       "      <th>quantity</th>\n",
       "    </tr>\n",
       "  </thead>\n",
       "  <tbody>\n",
       "    <tr>\n",
       "      <th>0</th>\n",
       "      <td>0</td>\n",
       "      <td>8d8acbac-ccbb-4609-a978-98dee3ac3088</td>\n",
       "      <td>12.81</td>\n",
       "      <td>6px</td>\n",
       "    </tr>\n",
       "    <tr>\n",
       "      <th>1</th>\n",
       "      <td>1</td>\n",
       "      <td>59e4c308-5262-486d-9f1a-12b1278e3c44</td>\n",
       "      <td>14.00</td>\n",
       "      <td>6pieces</td>\n",
       "    </tr>\n",
       "    <tr>\n",
       "      <th>2</th>\n",
       "      <td>2</td>\n",
       "      <td>30fc1b76-c488-4077-8d70-3236e3afc990</td>\n",
       "      <td>6.78</td>\n",
       "      <td>4pcs</td>\n",
       "    </tr>\n",
       "    <tr>\n",
       "      <th>3</th>\n",
       "      <td>3</td>\n",
       "      <td>6b273d38-b472-4bb2-8b74-a26705c707fa</td>\n",
       "      <td>8.72</td>\n",
       "      <td>4px</td>\n",
       "    </tr>\n",
       "    <tr>\n",
       "      <th>4</th>\n",
       "      <td>4</td>\n",
       "      <td>6b273d38-b472-4bb2-8b74-a26705c707fa</td>\n",
       "      <td>8.83</td>\n",
       "      <td>5pieces</td>\n",
       "    </tr>\n",
       "    <tr>\n",
       "      <th>...</th>\n",
       "      <td>...</td>\n",
       "      <td>...</td>\n",
       "      <td>...</td>\n",
       "      <td>...</td>\n",
       "    </tr>\n",
       "    <tr>\n",
       "      <th>499995</th>\n",
       "      <td>499995</td>\n",
       "      <td>61c1751e-f17b-494a-a9a2-33c6694d6036</td>\n",
       "      <td>38.07</td>\n",
       "      <td>1piece</td>\n",
       "    </tr>\n",
       "    <tr>\n",
       "      <th>499996</th>\n",
       "      <td>499996</td>\n",
       "      <td>61c1751e-f17b-494a-a9a2-33c6694d6036</td>\n",
       "      <td>38.07</td>\n",
       "      <td>3pcs</td>\n",
       "    </tr>\n",
       "    <tr>\n",
       "      <th>499997</th>\n",
       "      <td>499997</td>\n",
       "      <td>44f739c2-73f4-491c-a932-c1362831e0e3</td>\n",
       "      <td>38.07</td>\n",
       "      <td>1pieces</td>\n",
       "    </tr>\n",
       "    <tr>\n",
       "      <th>499998</th>\n",
       "      <td>499998</td>\n",
       "      <td>44f739c2-73f4-491c-a932-c1362831e0e3</td>\n",
       "      <td>38.07</td>\n",
       "      <td>1PC</td>\n",
       "    </tr>\n",
       "    <tr>\n",
       "      <th>499999</th>\n",
       "      <td>499999</td>\n",
       "      <td>f1c591a5-fd7c-498f-ae4e-2739334878ce</td>\n",
       "      <td>38.07</td>\n",
       "      <td>1pieces</td>\n",
       "    </tr>\n",
       "  </tbody>\n",
       "</table>\n",
       "<p>500000 rows × 4 columns</p>\n",
       "</div>"
      ],
      "text/plain": [
       "        Unnamed: 0                              order_id  price quantity\n",
       "0                0  8d8acbac-ccbb-4609-a978-98dee3ac3088  12.81      6px\n",
       "1                1  59e4c308-5262-486d-9f1a-12b1278e3c44  14.00  6pieces\n",
       "2                2  30fc1b76-c488-4077-8d70-3236e3afc990   6.78     4pcs\n",
       "3                3  6b273d38-b472-4bb2-8b74-a26705c707fa   8.72      4px\n",
       "4                4  6b273d38-b472-4bb2-8b74-a26705c707fa   8.83  5pieces\n",
       "...            ...                                   ...    ...      ...\n",
       "499995      499995  61c1751e-f17b-494a-a9a2-33c6694d6036  38.07   1piece\n",
       "499996      499996  61c1751e-f17b-494a-a9a2-33c6694d6036  38.07     3pcs\n",
       "499997      499997  44f739c2-73f4-491c-a932-c1362831e0e3  38.07  1pieces\n",
       "499998      499998  44f739c2-73f4-491c-a932-c1362831e0e3  38.07      1PC\n",
       "499999      499999  f1c591a5-fd7c-498f-ae4e-2739334878ce  38.07  1pieces\n",
       "\n",
       "[500000 rows x 4 columns]"
      ]
     },
     "execution_count": 8,
     "metadata": {},
     "output_type": "execute_result"
    }
   ],
   "source": [
    "# checking if all order_id follows UUID\n",
    "\n",
    "prices1[prices1.order_id.str.fullmatch(r'^[0-9a-fA-F]{8}-[0-9a-fA-F]{4}-4[0-9a-fA-F]{3}-[89abAB][0-9a-fA-F]{3}-[0-9a-fA-F]{12}$')]"
   ]
  },
  {
   "cell_type": "markdown",
   "metadata": {},
   "source": [
    "### line_item_data_prices2"
   ]
  },
  {
   "cell_type": "code",
   "execution_count": 9,
   "metadata": {},
   "outputs": [],
   "source": [
    "prices2 = all['line_item_data_prices2.csv']"
   ]
  },
  {
   "cell_type": "code",
   "execution_count": 10,
   "metadata": {},
   "outputs": [
    {
     "data": {
      "text/html": [
       "<div>\n",
       "<style scoped>\n",
       "    .dataframe tbody tr th:only-of-type {\n",
       "        vertical-align: middle;\n",
       "    }\n",
       "\n",
       "    .dataframe tbody tr th {\n",
       "        vertical-align: top;\n",
       "    }\n",
       "\n",
       "    .dataframe thead th {\n",
       "        text-align: right;\n",
       "    }\n",
       "</style>\n",
       "<table border=\"1\" class=\"dataframe\">\n",
       "  <thead>\n",
       "    <tr style=\"text-align: right;\">\n",
       "      <th></th>\n",
       "      <th>Unnamed: 0</th>\n",
       "      <th>order_id</th>\n",
       "      <th>price</th>\n",
       "      <th>quantity</th>\n",
       "    </tr>\n",
       "  </thead>\n",
       "  <tbody>\n",
       "    <tr>\n",
       "      <th>0</th>\n",
       "      <td>500000</td>\n",
       "      <td>f1c591a5-fd7c-498f-ae4e-2739334878ce</td>\n",
       "      <td>38.07</td>\n",
       "      <td>4PC</td>\n",
       "    </tr>\n",
       "    <tr>\n",
       "      <th>1</th>\n",
       "      <td>500001</td>\n",
       "      <td>8a720341-a145-4a7c-b2d5-ac3c6e0d8da8</td>\n",
       "      <td>38.07</td>\n",
       "      <td>4pcs</td>\n",
       "    </tr>\n",
       "    <tr>\n",
       "      <th>2</th>\n",
       "      <td>500002</td>\n",
       "      <td>8a720341-a145-4a7c-b2d5-ac3c6e0d8da8</td>\n",
       "      <td>38.07</td>\n",
       "      <td>4PCs</td>\n",
       "    </tr>\n",
       "    <tr>\n",
       "      <th>3</th>\n",
       "      <td>500003</td>\n",
       "      <td>fd365f1c-9c25-4544-b4b2-fd9f55d3e6e2</td>\n",
       "      <td>38.07</td>\n",
       "      <td>2PCs</td>\n",
       "    </tr>\n",
       "    <tr>\n",
       "      <th>4</th>\n",
       "      <td>500004</td>\n",
       "      <td>fd365f1c-9c25-4544-b4b2-fd9f55d3e6e2</td>\n",
       "      <td>38.07</td>\n",
       "      <td>4pieces</td>\n",
       "    </tr>\n",
       "    <tr>\n",
       "      <th>...</th>\n",
       "      <td>...</td>\n",
       "      <td>...</td>\n",
       "      <td>...</td>\n",
       "      <td>...</td>\n",
       "    </tr>\n",
       "    <tr>\n",
       "      <th>499995</th>\n",
       "      <td>999995</td>\n",
       "      <td>1e199808-c7b5-4fba-ab74-6ff46d3195fb</td>\n",
       "      <td>38.62</td>\n",
       "      <td>5piece</td>\n",
       "    </tr>\n",
       "    <tr>\n",
       "      <th>499996</th>\n",
       "      <td>999996</td>\n",
       "      <td>552e5cdc-6e1d-4b90-a721-012644ffc42f</td>\n",
       "      <td>36.11</td>\n",
       "      <td>9PCs</td>\n",
       "    </tr>\n",
       "    <tr>\n",
       "      <th>499997</th>\n",
       "      <td>999997</td>\n",
       "      <td>552e5cdc-6e1d-4b90-a721-012644ffc42f</td>\n",
       "      <td>36.11</td>\n",
       "      <td>5pcs</td>\n",
       "    </tr>\n",
       "    <tr>\n",
       "      <th>499998</th>\n",
       "      <td>999998</td>\n",
       "      <td>060d9363-3ce4-4acf-9195-5c9e6d835fc5</td>\n",
       "      <td>52.55</td>\n",
       "      <td>5PC</td>\n",
       "    </tr>\n",
       "    <tr>\n",
       "      <th>499999</th>\n",
       "      <td>999999</td>\n",
       "      <td>060d9363-3ce4-4acf-9195-5c9e6d835fc5</td>\n",
       "      <td>52.55</td>\n",
       "      <td>10pcs</td>\n",
       "    </tr>\n",
       "  </tbody>\n",
       "</table>\n",
       "<p>500000 rows × 4 columns</p>\n",
       "</div>"
      ],
      "text/plain": [
       "        Unnamed: 0                              order_id  price quantity\n",
       "0           500000  f1c591a5-fd7c-498f-ae4e-2739334878ce  38.07      4PC\n",
       "1           500001  8a720341-a145-4a7c-b2d5-ac3c6e0d8da8  38.07     4pcs\n",
       "2           500002  8a720341-a145-4a7c-b2d5-ac3c6e0d8da8  38.07     4PCs\n",
       "3           500003  fd365f1c-9c25-4544-b4b2-fd9f55d3e6e2  38.07     2PCs\n",
       "4           500004  fd365f1c-9c25-4544-b4b2-fd9f55d3e6e2  38.07  4pieces\n",
       "...            ...                                   ...    ...      ...\n",
       "499995      999995  1e199808-c7b5-4fba-ab74-6ff46d3195fb  38.62   5piece\n",
       "499996      999996  552e5cdc-6e1d-4b90-a721-012644ffc42f  36.11     9PCs\n",
       "499997      999997  552e5cdc-6e1d-4b90-a721-012644ffc42f  36.11     5pcs\n",
       "499998      999998  060d9363-3ce4-4acf-9195-5c9e6d835fc5  52.55      5PC\n",
       "499999      999999  060d9363-3ce4-4acf-9195-5c9e6d835fc5  52.55    10pcs\n",
       "\n",
       "[500000 rows x 4 columns]"
      ]
     },
     "execution_count": 10,
     "metadata": {},
     "output_type": "execute_result"
    }
   ],
   "source": [
    "prices2"
   ]
  },
  {
   "cell_type": "code",
   "execution_count": 11,
   "metadata": {},
   "outputs": [
    {
     "data": {
      "text/plain": [
       "0             4PC\n",
       "1            4pcs\n",
       "2            4PCs\n",
       "3            2PCs\n",
       "4         4pieces\n",
       "           ...   \n",
       "499995     5piece\n",
       "499996       9PCs\n",
       "499997       5pcs\n",
       "499998        5PC\n",
       "499999      10pcs\n",
       "Name: quantity, Length: 500000, dtype: object"
      ]
     },
     "execution_count": 11,
     "metadata": {},
     "output_type": "execute_result"
    }
   ],
   "source": [
    "# quantity not conformed\n",
    "\n",
    "prices2['quantity']"
   ]
  },
  {
   "cell_type": "code",
   "execution_count": 12,
   "metadata": {},
   "outputs": [],
   "source": [
    "# trim and regex\n",
    "\n",
    "#prices2[\"quantity\"] = prices2[\"quantity\"].str.replace(r'\\D', '', regex=True)"
   ]
  },
  {
   "cell_type": "code",
   "execution_count": 13,
   "metadata": {},
   "outputs": [
    {
     "data": {
      "text/html": [
       "<div>\n",
       "<style scoped>\n",
       "    .dataframe tbody tr th:only-of-type {\n",
       "        vertical-align: middle;\n",
       "    }\n",
       "\n",
       "    .dataframe tbody tr th {\n",
       "        vertical-align: top;\n",
       "    }\n",
       "\n",
       "    .dataframe thead th {\n",
       "        text-align: right;\n",
       "    }\n",
       "</style>\n",
       "<table border=\"1\" class=\"dataframe\">\n",
       "  <thead>\n",
       "    <tr style=\"text-align: right;\">\n",
       "      <th></th>\n",
       "      <th>Unnamed: 0</th>\n",
       "      <th>order_id</th>\n",
       "      <th>price</th>\n",
       "      <th>quantity</th>\n",
       "    </tr>\n",
       "  </thead>\n",
       "  <tbody>\n",
       "    <tr>\n",
       "      <th>0</th>\n",
       "      <td>500000</td>\n",
       "      <td>f1c591a5-fd7c-498f-ae4e-2739334878ce</td>\n",
       "      <td>38.07</td>\n",
       "      <td>4PC</td>\n",
       "    </tr>\n",
       "    <tr>\n",
       "      <th>1</th>\n",
       "      <td>500001</td>\n",
       "      <td>8a720341-a145-4a7c-b2d5-ac3c6e0d8da8</td>\n",
       "      <td>38.07</td>\n",
       "      <td>4pcs</td>\n",
       "    </tr>\n",
       "    <tr>\n",
       "      <th>2</th>\n",
       "      <td>500002</td>\n",
       "      <td>8a720341-a145-4a7c-b2d5-ac3c6e0d8da8</td>\n",
       "      <td>38.07</td>\n",
       "      <td>4PCs</td>\n",
       "    </tr>\n",
       "    <tr>\n",
       "      <th>3</th>\n",
       "      <td>500003</td>\n",
       "      <td>fd365f1c-9c25-4544-b4b2-fd9f55d3e6e2</td>\n",
       "      <td>38.07</td>\n",
       "      <td>2PCs</td>\n",
       "    </tr>\n",
       "    <tr>\n",
       "      <th>4</th>\n",
       "      <td>500004</td>\n",
       "      <td>fd365f1c-9c25-4544-b4b2-fd9f55d3e6e2</td>\n",
       "      <td>38.07</td>\n",
       "      <td>4pieces</td>\n",
       "    </tr>\n",
       "    <tr>\n",
       "      <th>...</th>\n",
       "      <td>...</td>\n",
       "      <td>...</td>\n",
       "      <td>...</td>\n",
       "      <td>...</td>\n",
       "    </tr>\n",
       "    <tr>\n",
       "      <th>499995</th>\n",
       "      <td>999995</td>\n",
       "      <td>1e199808-c7b5-4fba-ab74-6ff46d3195fb</td>\n",
       "      <td>38.62</td>\n",
       "      <td>5piece</td>\n",
       "    </tr>\n",
       "    <tr>\n",
       "      <th>499996</th>\n",
       "      <td>999996</td>\n",
       "      <td>552e5cdc-6e1d-4b90-a721-012644ffc42f</td>\n",
       "      <td>36.11</td>\n",
       "      <td>9PCs</td>\n",
       "    </tr>\n",
       "    <tr>\n",
       "      <th>499997</th>\n",
       "      <td>999997</td>\n",
       "      <td>552e5cdc-6e1d-4b90-a721-012644ffc42f</td>\n",
       "      <td>36.11</td>\n",
       "      <td>5pcs</td>\n",
       "    </tr>\n",
       "    <tr>\n",
       "      <th>499998</th>\n",
       "      <td>999998</td>\n",
       "      <td>060d9363-3ce4-4acf-9195-5c9e6d835fc5</td>\n",
       "      <td>52.55</td>\n",
       "      <td>5PC</td>\n",
       "    </tr>\n",
       "    <tr>\n",
       "      <th>499999</th>\n",
       "      <td>999999</td>\n",
       "      <td>060d9363-3ce4-4acf-9195-5c9e6d835fc5</td>\n",
       "      <td>52.55</td>\n",
       "      <td>10pcs</td>\n",
       "    </tr>\n",
       "  </tbody>\n",
       "</table>\n",
       "<p>500000 rows × 4 columns</p>\n",
       "</div>"
      ],
      "text/plain": [
       "        Unnamed: 0                              order_id  price quantity\n",
       "0           500000  f1c591a5-fd7c-498f-ae4e-2739334878ce  38.07      4PC\n",
       "1           500001  8a720341-a145-4a7c-b2d5-ac3c6e0d8da8  38.07     4pcs\n",
       "2           500002  8a720341-a145-4a7c-b2d5-ac3c6e0d8da8  38.07     4PCs\n",
       "3           500003  fd365f1c-9c25-4544-b4b2-fd9f55d3e6e2  38.07     2PCs\n",
       "4           500004  fd365f1c-9c25-4544-b4b2-fd9f55d3e6e2  38.07  4pieces\n",
       "...            ...                                   ...    ...      ...\n",
       "499995      999995  1e199808-c7b5-4fba-ab74-6ff46d3195fb  38.62   5piece\n",
       "499996      999996  552e5cdc-6e1d-4b90-a721-012644ffc42f  36.11     9PCs\n",
       "499997      999997  552e5cdc-6e1d-4b90-a721-012644ffc42f  36.11     5pcs\n",
       "499998      999998  060d9363-3ce4-4acf-9195-5c9e6d835fc5  52.55      5PC\n",
       "499999      999999  060d9363-3ce4-4acf-9195-5c9e6d835fc5  52.55    10pcs\n",
       "\n",
       "[500000 rows x 4 columns]"
      ]
     },
     "execution_count": 13,
     "metadata": {},
     "output_type": "execute_result"
    }
   ],
   "source": [
    "prices2"
   ]
  },
  {
   "cell_type": "code",
   "execution_count": 14,
   "metadata": {},
   "outputs": [],
   "source": [
    "# dropping duplicates\n",
    "\n",
    "#prices2 = all['line_item_data_prices2.csv'].drop_duplicates(subset=['order_id'])"
   ]
  },
  {
   "cell_type": "code",
   "execution_count": 15,
   "metadata": {},
   "outputs": [
    {
     "data": {
      "text/plain": [
       "(500000, 4)"
      ]
     },
     "execution_count": 15,
     "metadata": {},
     "output_type": "execute_result"
    }
   ],
   "source": [
    "# confirming shape\n",
    "\n",
    "prices2.shape"
   ]
  },
  {
   "cell_type": "code",
   "execution_count": 16,
   "metadata": {},
   "outputs": [
    {
     "data": {
      "text/plain": [
       "118857"
      ]
     },
     "execution_count": 16,
     "metadata": {},
     "output_type": "execute_result"
    }
   ],
   "source": [
    "# checking for duplicates\n",
    "\n",
    "prices2['order_id'].nunique()"
   ]
  },
  {
   "cell_type": "code",
   "execution_count": 17,
   "metadata": {},
   "outputs": [
    {
     "data": {
      "text/plain": [
       "Unnamed: 0    0\n",
       "order_id      0\n",
       "price         0\n",
       "quantity      0\n",
       "dtype: int64"
      ]
     },
     "execution_count": 17,
     "metadata": {},
     "output_type": "execute_result"
    }
   ],
   "source": [
    "# checking null values count per column\n",
    "\n",
    "prices2.isnull().sum()"
   ]
  },
  {
   "cell_type": "code",
   "execution_count": 18,
   "metadata": {},
   "outputs": [
    {
     "data": {
      "text/plain": [
       "Unnamed: 0    0\n",
       "order_id      0\n",
       "price         0\n",
       "quantity      0\n",
       "dtype: int64"
      ]
     },
     "execution_count": 18,
     "metadata": {},
     "output_type": "execute_result"
    }
   ],
   "source": [
    "# checking null values per column\n",
    "\n",
    "prices2.isna().sum()"
   ]
  },
  {
   "cell_type": "markdown",
   "metadata": {},
   "source": [
    "### line_item_data_prices3.parquet"
   ]
  },
  {
   "cell_type": "code",
   "execution_count": 19,
   "metadata": {},
   "outputs": [],
   "source": [
    "prices3 = pd.read_parquet('./Project Dataset/Operations Department/line_item_data_prices3.parquet')"
   ]
  },
  {
   "cell_type": "code",
   "execution_count": 20,
   "metadata": {},
   "outputs": [
    {
     "data": {
      "text/html": [
       "<div>\n",
       "<style scoped>\n",
       "    .dataframe tbody tr th:only-of-type {\n",
       "        vertical-align: middle;\n",
       "    }\n",
       "\n",
       "    .dataframe tbody tr th {\n",
       "        vertical-align: top;\n",
       "    }\n",
       "\n",
       "    .dataframe thead th {\n",
       "        text-align: right;\n",
       "    }\n",
       "</style>\n",
       "<table border=\"1\" class=\"dataframe\">\n",
       "  <thead>\n",
       "    <tr style=\"text-align: right;\">\n",
       "      <th></th>\n",
       "      <th>Unnamed: 0</th>\n",
       "      <th>order_id</th>\n",
       "      <th>price</th>\n",
       "      <th>quantity</th>\n",
       "    </tr>\n",
       "  </thead>\n",
       "  <tbody>\n",
       "    <tr>\n",
       "      <th>0</th>\n",
       "      <td>1000000</td>\n",
       "      <td>dc70f978-3a6b-4baf-b97e-4a88690a34fe</td>\n",
       "      <td>42.13</td>\n",
       "      <td>8PC</td>\n",
       "    </tr>\n",
       "    <tr>\n",
       "      <th>1</th>\n",
       "      <td>1000001</td>\n",
       "      <td>dc70f978-3a6b-4baf-b97e-4a88690a34fe</td>\n",
       "      <td>42.13</td>\n",
       "      <td>5piece</td>\n",
       "    </tr>\n",
       "    <tr>\n",
       "      <th>2</th>\n",
       "      <td>1000002</td>\n",
       "      <td>3556b3e7-046a-4148-b1cb-d86ee7ee5421</td>\n",
       "      <td>42.13</td>\n",
       "      <td>10PC</td>\n",
       "    </tr>\n",
       "    <tr>\n",
       "      <th>3</th>\n",
       "      <td>1000003</td>\n",
       "      <td>3556b3e7-046a-4148-b1cb-d86ee7ee5421</td>\n",
       "      <td>42.13</td>\n",
       "      <td>5pcs</td>\n",
       "    </tr>\n",
       "    <tr>\n",
       "      <th>4</th>\n",
       "      <td>1000004</td>\n",
       "      <td>29b63149-3b3c-4309-a751-7d0a563f7c12</td>\n",
       "      <td>40.87</td>\n",
       "      <td>5PC</td>\n",
       "    </tr>\n",
       "    <tr>\n",
       "      <th>...</th>\n",
       "      <td>...</td>\n",
       "      <td>...</td>\n",
       "      <td>...</td>\n",
       "      <td>...</td>\n",
       "    </tr>\n",
       "    <tr>\n",
       "      <th>997169</th>\n",
       "      <td>1997169</td>\n",
       "      <td>8a985165-e1b4-4f91-a8c4-86f54c806a9c</td>\n",
       "      <td>17.28</td>\n",
       "      <td>5pcs</td>\n",
       "    </tr>\n",
       "    <tr>\n",
       "      <th>997170</th>\n",
       "      <td>1997170</td>\n",
       "      <td>7285b9ed-a45a-4aa0-86fb-2abae50780f8</td>\n",
       "      <td>17.28</td>\n",
       "      <td>5piece</td>\n",
       "    </tr>\n",
       "    <tr>\n",
       "      <th>997171</th>\n",
       "      <td>1997171</td>\n",
       "      <td>35ad8f1d-9014-4430-bed3-f803b46d48a6</td>\n",
       "      <td>38.07</td>\n",
       "      <td>6PCs</td>\n",
       "    </tr>\n",
       "    <tr>\n",
       "      <th>997172</th>\n",
       "      <td>1997172</td>\n",
       "      <td>38320c44-fea2-46b1-adfc-c4be22865c78</td>\n",
       "      <td>17.28</td>\n",
       "      <td>3pieces</td>\n",
       "    </tr>\n",
       "    <tr>\n",
       "      <th>997173</th>\n",
       "      <td>1997173</td>\n",
       "      <td>0446efea-bbb6-4d85-aa6e-51381f440595</td>\n",
       "      <td>17.28</td>\n",
       "      <td>4piece</td>\n",
       "    </tr>\n",
       "  </tbody>\n",
       "</table>\n",
       "<p>997174 rows × 4 columns</p>\n",
       "</div>"
      ],
      "text/plain": [
       "        Unnamed: 0                              order_id  price quantity\n",
       "0          1000000  dc70f978-3a6b-4baf-b97e-4a88690a34fe  42.13      8PC\n",
       "1          1000001  dc70f978-3a6b-4baf-b97e-4a88690a34fe  42.13   5piece\n",
       "2          1000002  3556b3e7-046a-4148-b1cb-d86ee7ee5421  42.13     10PC\n",
       "3          1000003  3556b3e7-046a-4148-b1cb-d86ee7ee5421  42.13     5pcs\n",
       "4          1000004  29b63149-3b3c-4309-a751-7d0a563f7c12  40.87      5PC\n",
       "...            ...                                   ...    ...      ...\n",
       "997169     1997169  8a985165-e1b4-4f91-a8c4-86f54c806a9c  17.28     5pcs\n",
       "997170     1997170  7285b9ed-a45a-4aa0-86fb-2abae50780f8  17.28   5piece\n",
       "997171     1997171  35ad8f1d-9014-4430-bed3-f803b46d48a6  38.07     6PCs\n",
       "997172     1997172  38320c44-fea2-46b1-adfc-c4be22865c78  17.28  3pieces\n",
       "997173     1997173  0446efea-bbb6-4d85-aa6e-51381f440595  17.28   4piece\n",
       "\n",
       "[997174 rows x 4 columns]"
      ]
     },
     "execution_count": 20,
     "metadata": {},
     "output_type": "execute_result"
    }
   ],
   "source": [
    "prices3"
   ]
  },
  {
   "cell_type": "code",
   "execution_count": 21,
   "metadata": {},
   "outputs": [
    {
     "data": {
      "text/plain": [
       "0             4PC\n",
       "1            4pcs\n",
       "2            4PCs\n",
       "3            2PCs\n",
       "4         4pieces\n",
       "           ...   \n",
       "499995     5piece\n",
       "499996       9PCs\n",
       "499997       5pcs\n",
       "499998        5PC\n",
       "499999      10pcs\n",
       "Name: quantity, Length: 500000, dtype: object"
      ]
     },
     "execution_count": 21,
     "metadata": {},
     "output_type": "execute_result"
    }
   ],
   "source": [
    "# quantity not conformed\n",
    "\n",
    "prices2['quantity']"
   ]
  },
  {
   "cell_type": "code",
   "execution_count": 22,
   "metadata": {},
   "outputs": [],
   "source": [
    "# trim and regex\n",
    "\n",
    "#prices2[\"quantity\"] = prices2[\"quantity\"].str.replace(r'\\D', '', regex=True)"
   ]
  },
  {
   "cell_type": "code",
   "execution_count": 23,
   "metadata": {},
   "outputs": [
    {
     "data": {
      "text/html": [
       "<div>\n",
       "<style scoped>\n",
       "    .dataframe tbody tr th:only-of-type {\n",
       "        vertical-align: middle;\n",
       "    }\n",
       "\n",
       "    .dataframe tbody tr th {\n",
       "        vertical-align: top;\n",
       "    }\n",
       "\n",
       "    .dataframe thead th {\n",
       "        text-align: right;\n",
       "    }\n",
       "</style>\n",
       "<table border=\"1\" class=\"dataframe\">\n",
       "  <thead>\n",
       "    <tr style=\"text-align: right;\">\n",
       "      <th></th>\n",
       "      <th>Unnamed: 0</th>\n",
       "      <th>order_id</th>\n",
       "      <th>price</th>\n",
       "      <th>quantity</th>\n",
       "    </tr>\n",
       "  </thead>\n",
       "  <tbody>\n",
       "    <tr>\n",
       "      <th>0</th>\n",
       "      <td>500000</td>\n",
       "      <td>f1c591a5-fd7c-498f-ae4e-2739334878ce</td>\n",
       "      <td>38.07</td>\n",
       "      <td>4PC</td>\n",
       "    </tr>\n",
       "    <tr>\n",
       "      <th>1</th>\n",
       "      <td>500001</td>\n",
       "      <td>8a720341-a145-4a7c-b2d5-ac3c6e0d8da8</td>\n",
       "      <td>38.07</td>\n",
       "      <td>4pcs</td>\n",
       "    </tr>\n",
       "    <tr>\n",
       "      <th>2</th>\n",
       "      <td>500002</td>\n",
       "      <td>8a720341-a145-4a7c-b2d5-ac3c6e0d8da8</td>\n",
       "      <td>38.07</td>\n",
       "      <td>4PCs</td>\n",
       "    </tr>\n",
       "    <tr>\n",
       "      <th>3</th>\n",
       "      <td>500003</td>\n",
       "      <td>fd365f1c-9c25-4544-b4b2-fd9f55d3e6e2</td>\n",
       "      <td>38.07</td>\n",
       "      <td>2PCs</td>\n",
       "    </tr>\n",
       "    <tr>\n",
       "      <th>4</th>\n",
       "      <td>500004</td>\n",
       "      <td>fd365f1c-9c25-4544-b4b2-fd9f55d3e6e2</td>\n",
       "      <td>38.07</td>\n",
       "      <td>4pieces</td>\n",
       "    </tr>\n",
       "    <tr>\n",
       "      <th>...</th>\n",
       "      <td>...</td>\n",
       "      <td>...</td>\n",
       "      <td>...</td>\n",
       "      <td>...</td>\n",
       "    </tr>\n",
       "    <tr>\n",
       "      <th>499995</th>\n",
       "      <td>999995</td>\n",
       "      <td>1e199808-c7b5-4fba-ab74-6ff46d3195fb</td>\n",
       "      <td>38.62</td>\n",
       "      <td>5piece</td>\n",
       "    </tr>\n",
       "    <tr>\n",
       "      <th>499996</th>\n",
       "      <td>999996</td>\n",
       "      <td>552e5cdc-6e1d-4b90-a721-012644ffc42f</td>\n",
       "      <td>36.11</td>\n",
       "      <td>9PCs</td>\n",
       "    </tr>\n",
       "    <tr>\n",
       "      <th>499997</th>\n",
       "      <td>999997</td>\n",
       "      <td>552e5cdc-6e1d-4b90-a721-012644ffc42f</td>\n",
       "      <td>36.11</td>\n",
       "      <td>5pcs</td>\n",
       "    </tr>\n",
       "    <tr>\n",
       "      <th>499998</th>\n",
       "      <td>999998</td>\n",
       "      <td>060d9363-3ce4-4acf-9195-5c9e6d835fc5</td>\n",
       "      <td>52.55</td>\n",
       "      <td>5PC</td>\n",
       "    </tr>\n",
       "    <tr>\n",
       "      <th>499999</th>\n",
       "      <td>999999</td>\n",
       "      <td>060d9363-3ce4-4acf-9195-5c9e6d835fc5</td>\n",
       "      <td>52.55</td>\n",
       "      <td>10pcs</td>\n",
       "    </tr>\n",
       "  </tbody>\n",
       "</table>\n",
       "<p>500000 rows × 4 columns</p>\n",
       "</div>"
      ],
      "text/plain": [
       "        Unnamed: 0                              order_id  price quantity\n",
       "0           500000  f1c591a5-fd7c-498f-ae4e-2739334878ce  38.07      4PC\n",
       "1           500001  8a720341-a145-4a7c-b2d5-ac3c6e0d8da8  38.07     4pcs\n",
       "2           500002  8a720341-a145-4a7c-b2d5-ac3c6e0d8da8  38.07     4PCs\n",
       "3           500003  fd365f1c-9c25-4544-b4b2-fd9f55d3e6e2  38.07     2PCs\n",
       "4           500004  fd365f1c-9c25-4544-b4b2-fd9f55d3e6e2  38.07  4pieces\n",
       "...            ...                                   ...    ...      ...\n",
       "499995      999995  1e199808-c7b5-4fba-ab74-6ff46d3195fb  38.62   5piece\n",
       "499996      999996  552e5cdc-6e1d-4b90-a721-012644ffc42f  36.11     9PCs\n",
       "499997      999997  552e5cdc-6e1d-4b90-a721-012644ffc42f  36.11     5pcs\n",
       "499998      999998  060d9363-3ce4-4acf-9195-5c9e6d835fc5  52.55      5PC\n",
       "499999      999999  060d9363-3ce4-4acf-9195-5c9e6d835fc5  52.55    10pcs\n",
       "\n",
       "[500000 rows x 4 columns]"
      ]
     },
     "execution_count": 23,
     "metadata": {},
     "output_type": "execute_result"
    }
   ],
   "source": [
    "prices2"
   ]
  },
  {
   "cell_type": "code",
   "execution_count": 24,
   "metadata": {},
   "outputs": [],
   "source": [
    "# dropping duplicates\n",
    "\n",
    "#prices2 = all['line_item_data_prices2.csv'].drop_duplicates(subset=['order_id'])"
   ]
  },
  {
   "cell_type": "code",
   "execution_count": 25,
   "metadata": {},
   "outputs": [
    {
     "data": {
      "text/plain": [
       "(500000, 4)"
      ]
     },
     "execution_count": 25,
     "metadata": {},
     "output_type": "execute_result"
    }
   ],
   "source": [
    "# confirming shape\n",
    "\n",
    "prices2.shape"
   ]
  },
  {
   "cell_type": "code",
   "execution_count": 26,
   "metadata": {},
   "outputs": [
    {
     "data": {
      "text/plain": [
       "118857"
      ]
     },
     "execution_count": 26,
     "metadata": {},
     "output_type": "execute_result"
    }
   ],
   "source": [
    "# checking for duplicates\n",
    "\n",
    "prices2['order_id'].nunique()"
   ]
  },
  {
   "cell_type": "code",
   "execution_count": 27,
   "metadata": {},
   "outputs": [
    {
     "data": {
      "text/plain": [
       "Unnamed: 0    0\n",
       "order_id      0\n",
       "price         0\n",
       "quantity      0\n",
       "dtype: int64"
      ]
     },
     "execution_count": 27,
     "metadata": {},
     "output_type": "execute_result"
    }
   ],
   "source": [
    "# checking null values count per column\n",
    "\n",
    "prices2.isnull().sum()"
   ]
  },
  {
   "cell_type": "code",
   "execution_count": 28,
   "metadata": {},
   "outputs": [
    {
     "data": {
      "text/plain": [
       "Unnamed: 0    0\n",
       "order_id      0\n",
       "price         0\n",
       "quantity      0\n",
       "dtype: int64"
      ]
     },
     "execution_count": 28,
     "metadata": {},
     "output_type": "execute_result"
    }
   ],
   "source": [
    "# checking null values per column\n",
    "\n",
    "prices2.isna().sum()"
   ]
  },
  {
   "cell_type": "markdown",
   "metadata": {},
   "source": [
    "---"
   ]
  },
  {
   "cell_type": "code",
   "execution_count": 29,
   "metadata": {},
   "outputs": [],
   "source": [
    "products1 = all['line_item_data_products1.csv']"
   ]
  },
  {
   "cell_type": "code",
   "execution_count": 30,
   "metadata": {},
   "outputs": [
    {
     "data": {
      "text/html": [
       "<div>\n",
       "<style scoped>\n",
       "    .dataframe tbody tr th:only-of-type {\n",
       "        vertical-align: middle;\n",
       "    }\n",
       "\n",
       "    .dataframe tbody tr th {\n",
       "        vertical-align: top;\n",
       "    }\n",
       "\n",
       "    .dataframe thead th {\n",
       "        text-align: right;\n",
       "    }\n",
       "</style>\n",
       "<table border=\"1\" class=\"dataframe\">\n",
       "  <thead>\n",
       "    <tr style=\"text-align: right;\">\n",
       "      <th></th>\n",
       "      <th>Unnamed: 0</th>\n",
       "      <th>order_id</th>\n",
       "      <th>product_name</th>\n",
       "      <th>product_id</th>\n",
       "    </tr>\n",
       "  </thead>\n",
       "  <tbody>\n",
       "    <tr>\n",
       "      <th>176912</th>\n",
       "      <td>176912</td>\n",
       "      <td>16877360-5bb4-4a3a-845a-fc48ccd469be</td>\n",
       "      <td>ice cream stick</td>\n",
       "      <td>PRODUCT27721</td>\n",
       "    </tr>\n",
       "    <tr>\n",
       "      <th>153275</th>\n",
       "      <td>153275</td>\n",
       "      <td>afb5dc51-74f9-4baa-b54c-54fb73c5adb2</td>\n",
       "      <td>Grandmas swedish thin pancakes</td>\n",
       "      <td>PRODUCT16794</td>\n",
       "    </tr>\n",
       "    <tr>\n",
       "      <th>422361</th>\n",
       "      <td>422361</td>\n",
       "      <td>1c93774c-90d4-46ca-8c28-15a5cc2eb84e</td>\n",
       "      <td>smart television</td>\n",
       "      <td>PRODUCT31495</td>\n",
       "    </tr>\n",
       "    <tr>\n",
       "      <th>27445</th>\n",
       "      <td>27445</td>\n",
       "      <td>bea712fc-edcc-4689-bb63-7ca0cd0cd3d9</td>\n",
       "      <td>blue pen</td>\n",
       "      <td>PRODUCT51590</td>\n",
       "    </tr>\n",
       "    <tr>\n",
       "      <th>411374</th>\n",
       "      <td>411374</td>\n",
       "      <td>e88a65ea-970f-436a-becf-fd546355c56b</td>\n",
       "      <td>spatula</td>\n",
       "      <td>PRODUCT31846</td>\n",
       "    </tr>\n",
       "    <tr>\n",
       "      <th>334304</th>\n",
       "      <td>334304</td>\n",
       "      <td>5d13e62e-f70b-48f8-af97-b274f22f9b1c</td>\n",
       "      <td>beaded bracelet</td>\n",
       "      <td>PRODUCT18900</td>\n",
       "    </tr>\n",
       "    <tr>\n",
       "      <th>431410</th>\n",
       "      <td>431410</td>\n",
       "      <td>0e461e95-a0ca-4a0b-a12b-3fb2d2e8d638</td>\n",
       "      <td>rubber band</td>\n",
       "      <td>PRODUCT38477</td>\n",
       "    </tr>\n",
       "    <tr>\n",
       "      <th>327538</th>\n",
       "      <td>327538</td>\n",
       "      <td>b592b627-7062-4a84-a9dd-e4bfc1169e96</td>\n",
       "      <td>Moms cheat doughnuts</td>\n",
       "      <td>PRODUCT26612</td>\n",
       "    </tr>\n",
       "    <tr>\n",
       "      <th>489310</th>\n",
       "      <td>489310</td>\n",
       "      <td>6a46cda2-58f6-46f0-ac3d-57b68b597514</td>\n",
       "      <td>monitor</td>\n",
       "      <td>PRODUCT47057</td>\n",
       "    </tr>\n",
       "    <tr>\n",
       "      <th>92431</th>\n",
       "      <td>92431</td>\n",
       "      <td>f3184f1b-e044-4177-9000-838487a26ca0</td>\n",
       "      <td>bottle of oil</td>\n",
       "      <td>PRODUCT23986</td>\n",
       "    </tr>\n",
       "    <tr>\n",
       "      <th>118960</th>\n",
       "      <td>118960</td>\n",
       "      <td>ecc10aa4-d024-4304-851b-9ff627dcc0d6</td>\n",
       "      <td>plush rabbit</td>\n",
       "      <td>PRODUCT32391</td>\n",
       "    </tr>\n",
       "    <tr>\n",
       "      <th>291637</th>\n",
       "      <td>291637</td>\n",
       "      <td>6998ab9a-97ad-4c57-a4df-36f9c78eaf21</td>\n",
       "      <td>small notebook</td>\n",
       "      <td>PRODUCT32152</td>\n",
       "    </tr>\n",
       "    <tr>\n",
       "      <th>227646</th>\n",
       "      <td>227646</td>\n",
       "      <td>00aa98fc-6ec7-4f8f-a456-04c1e96451f9</td>\n",
       "      <td>outlet</td>\n",
       "      <td>PRODUCT22100</td>\n",
       "    </tr>\n",
       "    <tr>\n",
       "      <th>23845</th>\n",
       "      <td>23845</td>\n",
       "      <td>4c353d89-1628-472a-ab4b-32ff71862dfd</td>\n",
       "      <td>credit card holder</td>\n",
       "      <td>PRODUCT25317</td>\n",
       "    </tr>\n",
       "    <tr>\n",
       "      <th>120071</th>\n",
       "      <td>120071</td>\n",
       "      <td>913c3f04-5878-4786-b4c4-9d1bfe169261</td>\n",
       "      <td>Chocolate coconut dream bars</td>\n",
       "      <td>PRODUCT05572</td>\n",
       "    </tr>\n",
       "    <tr>\n",
       "      <th>124168</th>\n",
       "      <td>124168</td>\n",
       "      <td>b98998e8-5f9a-45d5-9ac6-dd4aa2389b6f</td>\n",
       "      <td>toy robot</td>\n",
       "      <td>PRODUCT06160</td>\n",
       "    </tr>\n",
       "    <tr>\n",
       "      <th>129014</th>\n",
       "      <td>129014</td>\n",
       "      <td>131be91d-0b22-4ced-af38-96bde54e3c81</td>\n",
       "      <td>Sweet and sour kielbasa kabobs</td>\n",
       "      <td>PRODUCT55244</td>\n",
       "    </tr>\n",
       "    <tr>\n",
       "      <th>166911</th>\n",
       "      <td>166911</td>\n",
       "      <td>eb037000-8d9c-4493-9f35-1ac717d51b47</td>\n",
       "      <td>cucumber</td>\n",
       "      <td>PRODUCT45177</td>\n",
       "    </tr>\n",
       "    <tr>\n",
       "      <th>153199</th>\n",
       "      <td>153199</td>\n",
       "      <td>8767973d-e984-42b8-9ff9-a67242152083</td>\n",
       "      <td>video recorder</td>\n",
       "      <td>PRODUCT13660</td>\n",
       "    </tr>\n",
       "    <tr>\n",
       "      <th>426732</th>\n",
       "      <td>426732</td>\n",
       "      <td>f8c78190-f31a-437b-a024-df7482c89719</td>\n",
       "      <td>toy soldier</td>\n",
       "      <td>PRODUCT22934</td>\n",
       "    </tr>\n",
       "  </tbody>\n",
       "</table>\n",
       "</div>"
      ],
      "text/plain": [
       "        Unnamed: 0                              order_id  \\\n",
       "176912      176912  16877360-5bb4-4a3a-845a-fc48ccd469be   \n",
       "153275      153275  afb5dc51-74f9-4baa-b54c-54fb73c5adb2   \n",
       "422361      422361  1c93774c-90d4-46ca-8c28-15a5cc2eb84e   \n",
       "27445        27445  bea712fc-edcc-4689-bb63-7ca0cd0cd3d9   \n",
       "411374      411374  e88a65ea-970f-436a-becf-fd546355c56b   \n",
       "334304      334304  5d13e62e-f70b-48f8-af97-b274f22f9b1c   \n",
       "431410      431410  0e461e95-a0ca-4a0b-a12b-3fb2d2e8d638   \n",
       "327538      327538  b592b627-7062-4a84-a9dd-e4bfc1169e96   \n",
       "489310      489310  6a46cda2-58f6-46f0-ac3d-57b68b597514   \n",
       "92431        92431  f3184f1b-e044-4177-9000-838487a26ca0   \n",
       "118960      118960  ecc10aa4-d024-4304-851b-9ff627dcc0d6   \n",
       "291637      291637  6998ab9a-97ad-4c57-a4df-36f9c78eaf21   \n",
       "227646      227646  00aa98fc-6ec7-4f8f-a456-04c1e96451f9   \n",
       "23845        23845  4c353d89-1628-472a-ab4b-32ff71862dfd   \n",
       "120071      120071  913c3f04-5878-4786-b4c4-9d1bfe169261   \n",
       "124168      124168  b98998e8-5f9a-45d5-9ac6-dd4aa2389b6f   \n",
       "129014      129014  131be91d-0b22-4ced-af38-96bde54e3c81   \n",
       "166911      166911  eb037000-8d9c-4493-9f35-1ac717d51b47   \n",
       "153199      153199  8767973d-e984-42b8-9ff9-a67242152083   \n",
       "426732      426732  f8c78190-f31a-437b-a024-df7482c89719   \n",
       "\n",
       "                          product_name    product_id  \n",
       "176912                 ice cream stick  PRODUCT27721  \n",
       "153275  Grandmas swedish thin pancakes  PRODUCT16794  \n",
       "422361                smart television  PRODUCT31495  \n",
       "27445                         blue pen  PRODUCT51590  \n",
       "411374                         spatula  PRODUCT31846  \n",
       "334304                 beaded bracelet  PRODUCT18900  \n",
       "431410                     rubber band  PRODUCT38477  \n",
       "327538            Moms cheat doughnuts  PRODUCT26612  \n",
       "489310                         monitor  PRODUCT47057  \n",
       "92431                    bottle of oil  PRODUCT23986  \n",
       "118960                    plush rabbit  PRODUCT32391  \n",
       "291637                  small notebook  PRODUCT32152  \n",
       "227646                          outlet  PRODUCT22100  \n",
       "23845               credit card holder  PRODUCT25317  \n",
       "120071    Chocolate coconut dream bars  PRODUCT05572  \n",
       "124168                       toy robot  PRODUCT06160  \n",
       "129014  Sweet and sour kielbasa kabobs  PRODUCT55244  \n",
       "166911                        cucumber  PRODUCT45177  \n",
       "153199                  video recorder  PRODUCT13660  \n",
       "426732                     toy soldier  PRODUCT22934  "
      ]
     },
     "execution_count": 30,
     "metadata": {},
     "output_type": "execute_result"
    }
   ],
   "source": [
    "products1.sample(20)"
   ]
  },
  {
   "cell_type": "code",
   "execution_count": 31,
   "metadata": {},
   "outputs": [
    {
     "data": {
      "text/plain": [
       "(500000, 4)"
      ]
     },
     "execution_count": 31,
     "metadata": {},
     "output_type": "execute_result"
    }
   ],
   "source": [
    "products1.shape"
   ]
  },
  {
   "cell_type": "code",
   "execution_count": 32,
   "metadata": {},
   "outputs": [
    {
     "data": {
      "text/plain": [
       "115392"
      ]
     },
     "execution_count": 32,
     "metadata": {},
     "output_type": "execute_result"
    }
   ],
   "source": [
    "# checking for duplicates\n",
    "\n",
    "products1['order_id'].nunique()"
   ]
  },
  {
   "cell_type": "code",
   "execution_count": null,
   "metadata": {},
   "outputs": [],
   "source": [
    "# dropping duplicates\n",
    "\n",
    "#products1 = all['line_item_data_products1.csv'].drop_duplicates(subset=['order_id'])"
   ]
  },
  {
   "cell_type": "code",
   "execution_count": 33,
   "metadata": {},
   "outputs": [
    {
     "data": {
      "text/plain": [
       "Unnamed: 0      0\n",
       "order_id        0\n",
       "product_name    0\n",
       "product_id      0\n",
       "dtype: int64"
      ]
     },
     "execution_count": 33,
     "metadata": {},
     "output_type": "execute_result"
    }
   ],
   "source": [
    "# checking null values per column\n",
    "\n",
    "products1.isna().sum()"
   ]
  },
  {
   "cell_type": "code",
   "execution_count": 34,
   "metadata": {},
   "outputs": [
    {
     "data": {
      "text/html": [
       "<div>\n",
       "<style scoped>\n",
       "    .dataframe tbody tr th:only-of-type {\n",
       "        vertical-align: middle;\n",
       "    }\n",
       "\n",
       "    .dataframe tbody tr th {\n",
       "        vertical-align: top;\n",
       "    }\n",
       "\n",
       "    .dataframe thead th {\n",
       "        text-align: right;\n",
       "    }\n",
       "</style>\n",
       "<table border=\"1\" class=\"dataframe\">\n",
       "  <thead>\n",
       "    <tr style=\"text-align: right;\">\n",
       "      <th></th>\n",
       "      <th>Unnamed: 0</th>\n",
       "      <th>order_id</th>\n",
       "      <th>product_name</th>\n",
       "      <th>product_id</th>\n",
       "    </tr>\n",
       "  </thead>\n",
       "  <tbody>\n",
       "    <tr>\n",
       "      <th>0</th>\n",
       "      <td>0</td>\n",
       "      <td>8d8acbac-ccbb-4609-a978-98dee3ac3088</td>\n",
       "      <td>Grandmas swedish thin pancakes</td>\n",
       "      <td>PRODUCT16794</td>\n",
       "    </tr>\n",
       "    <tr>\n",
       "      <th>1</th>\n",
       "      <td>1</td>\n",
       "      <td>59e4c308-5262-486d-9f1a-12b1278e3c44</td>\n",
       "      <td>Blackberry breakfast bars</td>\n",
       "      <td>PRODUCT56387</td>\n",
       "    </tr>\n",
       "    <tr>\n",
       "      <th>2</th>\n",
       "      <td>2</td>\n",
       "      <td>30fc1b76-c488-4077-8d70-3236e3afc990</td>\n",
       "      <td>Moms cheat doughnuts</td>\n",
       "      <td>PRODUCT26612</td>\n",
       "    </tr>\n",
       "    <tr>\n",
       "      <th>3</th>\n",
       "      <td>3</td>\n",
       "      <td>6b273d38-b472-4bb2-8b74-a26705c707fa</td>\n",
       "      <td>Baked swiss cheese omelet</td>\n",
       "      <td>PRODUCT17344</td>\n",
       "    </tr>\n",
       "    <tr>\n",
       "      <th>4</th>\n",
       "      <td>4</td>\n",
       "      <td>6b273d38-b472-4bb2-8b74-a26705c707fa</td>\n",
       "      <td>Egg flowers</td>\n",
       "      <td>PRODUCT07816</td>\n",
       "    </tr>\n",
       "    <tr>\n",
       "      <th>...</th>\n",
       "      <td>...</td>\n",
       "      <td>...</td>\n",
       "      <td>...</td>\n",
       "      <td>...</td>\n",
       "    </tr>\n",
       "    <tr>\n",
       "      <th>499995</th>\n",
       "      <td>499995</td>\n",
       "      <td>61c1751e-f17b-494a-a9a2-33c6694d6036</td>\n",
       "      <td>clock</td>\n",
       "      <td>PRODUCT14601</td>\n",
       "    </tr>\n",
       "    <tr>\n",
       "      <th>499996</th>\n",
       "      <td>499996</td>\n",
       "      <td>61c1751e-f17b-494a-a9a2-33c6694d6036</td>\n",
       "      <td>clock</td>\n",
       "      <td>PRODUCT14601</td>\n",
       "    </tr>\n",
       "    <tr>\n",
       "      <th>499997</th>\n",
       "      <td>499997</td>\n",
       "      <td>44f739c2-73f4-491c-a932-c1362831e0e3</td>\n",
       "      <td>clock</td>\n",
       "      <td>PRODUCT14601</td>\n",
       "    </tr>\n",
       "    <tr>\n",
       "      <th>499998</th>\n",
       "      <td>499998</td>\n",
       "      <td>44f739c2-73f4-491c-a932-c1362831e0e3</td>\n",
       "      <td>clock</td>\n",
       "      <td>PRODUCT14601</td>\n",
       "    </tr>\n",
       "    <tr>\n",
       "      <th>499999</th>\n",
       "      <td>499999</td>\n",
       "      <td>f1c591a5-fd7c-498f-ae4e-2739334878ce</td>\n",
       "      <td>clock</td>\n",
       "      <td>PRODUCT14601</td>\n",
       "    </tr>\n",
       "  </tbody>\n",
       "</table>\n",
       "<p>500000 rows × 4 columns</p>\n",
       "</div>"
      ],
      "text/plain": [
       "        Unnamed: 0                              order_id  \\\n",
       "0                0  8d8acbac-ccbb-4609-a978-98dee3ac3088   \n",
       "1                1  59e4c308-5262-486d-9f1a-12b1278e3c44   \n",
       "2                2  30fc1b76-c488-4077-8d70-3236e3afc990   \n",
       "3                3  6b273d38-b472-4bb2-8b74-a26705c707fa   \n",
       "4                4  6b273d38-b472-4bb2-8b74-a26705c707fa   \n",
       "...            ...                                   ...   \n",
       "499995      499995  61c1751e-f17b-494a-a9a2-33c6694d6036   \n",
       "499996      499996  61c1751e-f17b-494a-a9a2-33c6694d6036   \n",
       "499997      499997  44f739c2-73f4-491c-a932-c1362831e0e3   \n",
       "499998      499998  44f739c2-73f4-491c-a932-c1362831e0e3   \n",
       "499999      499999  f1c591a5-fd7c-498f-ae4e-2739334878ce   \n",
       "\n",
       "                          product_name    product_id  \n",
       "0       Grandmas swedish thin pancakes  PRODUCT16794  \n",
       "1            Blackberry breakfast bars  PRODUCT56387  \n",
       "2                 Moms cheat doughnuts  PRODUCT26612  \n",
       "3            Baked swiss cheese omelet  PRODUCT17344  \n",
       "4                          Egg flowers  PRODUCT07816  \n",
       "...                                ...           ...  \n",
       "499995                           clock  PRODUCT14601  \n",
       "499996                           clock  PRODUCT14601  \n",
       "499997                           clock  PRODUCT14601  \n",
       "499998                           clock  PRODUCT14601  \n",
       "499999                           clock  PRODUCT14601  \n",
       "\n",
       "[500000 rows x 4 columns]"
      ]
     },
     "execution_count": 34,
     "metadata": {},
     "output_type": "execute_result"
    }
   ],
   "source": [
    "# checking product_id structure -> PRODUCT + 5 digits\n",
    "\n",
    "products1[products1.product_id.str.fullmatch(r'^PRODUCT\\d{5}$')]"
   ]
  },
  {
   "cell_type": "code",
   "execution_count": null,
   "metadata": {},
   "outputs": [],
   "source": []
  }
 ],
 "metadata": {
  "kernelspec": {
   "display_name": "Python 3",
   "language": "python",
   "name": "python3"
  },
  "language_info": {
   "codemirror_mode": {
    "name": "ipython",
    "version": 3
   },
   "file_extension": ".py",
   "mimetype": "text/x-python",
   "name": "python",
   "nbconvert_exporter": "python",
   "pygments_lexer": "ipython3",
   "version": "3.11.3"
  }
 },
 "nbformat": 4,
 "nbformat_minor": 2
}
