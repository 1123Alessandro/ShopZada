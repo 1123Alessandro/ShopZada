{
 "cells": [
  {
   "cell_type": "code",
   "execution_count": 134,
   "metadata": {},
   "outputs": [],
   "source": [
    "import pandas as pd\n",
    "from datetime import date\n",
    "from scripts.load import *"
   ]
  },
  {
   "cell_type": "markdown",
   "metadata": {},
   "source": [
    "### Cleaning campaign_data.csv"
   ]
  },
  {
   "cell_type": "code",
   "execution_count": 135,
   "metadata": {},
   "outputs": [],
   "source": [
    "#separate columns\n",
    "df_campaign = pd.read_csv('Project Dataset\\Marketing Department\\campaign_data.csv', sep='\\t')"
   ]
  },
  {
   "cell_type": "code",
   "execution_count": 136,
   "metadata": {},
   "outputs": [],
   "source": [
    "#Standardize discount\n",
    "df_campaign['discount'] = df_campaign['discount'].str.replace('\\D', '', regex=True)\n",
    "df_campaign['discount'] = df_campaign['discount']+ '%'"
   ]
  },
  {
   "cell_type": "code",
   "execution_count": 137,
   "metadata": {},
   "outputs": [],
   "source": [
    "#Remove useless Unnamed: 0 column\n",
    "df_campaign = df_campaign.drop('Unnamed: 0', axis=1)"
   ]
  },
  {
   "cell_type": "markdown",
   "metadata": {},
   "source": [
    "### Cleaning transactional_campaign_data.csv"
   ]
  },
  {
   "cell_type": "code",
   "execution_count": 138,
   "metadata": {},
   "outputs": [],
   "source": [
    "df_transactional_campaign = all['transactional_campaign_data.csv']"
   ]
  },
  {
   "cell_type": "code",
   "execution_count": 139,
   "metadata": {},
   "outputs": [],
   "source": [
    "#Remove useless Unnamed: 0 column\n",
    "df_transactional_campaign = df_transactional_campaign.drop('Unnamed: 0', axis=1)"
   ]
  },
  {
   "cell_type": "code",
   "execution_count": 140,
   "metadata": {},
   "outputs": [],
   "source": [
    "#Removing transactions that happened in the future\n",
    "today = str(date.today())\n",
    "df_transactional_campaign = df_transactional_campaign[df_transactional_campaign['transaction_date'] <= today]"
   ]
  },
  {
   "cell_type": "code",
   "execution_count": 141,
   "metadata": {},
   "outputs": [],
   "source": [
    "#renaming estimated arrival as estimated_arrival\n",
    "df_transactional_campaign.rename(columns={'estimated arrival': 'estimated_arrival'}, inplace=True)"
   ]
  },
  {
   "cell_type": "code",
   "execution_count": 142,
   "metadata": {},
   "outputs": [],
   "source": [
    "#estimated arrival column made to int data type\n",
    "df_transactional_campaign['estimated_arrival'] = df_transactional_campaign['estimated_arrival'].str.replace('\\D', '', regex=True)\n",
    "df_transactional_campaign['estimated_arrival'] = df_transactional_campaign['estimated_arrival'].astype(int)"
   ]
  }
 ],
 "metadata": {
  "kernelspec": {
   "display_name": "Python 3",
   "language": "python",
   "name": "python3"
  },
  "language_info": {
   "codemirror_mode": {
    "name": "ipython",
    "version": 3
   },
   "file_extension": ".py",
   "mimetype": "text/x-python",
   "name": "python",
   "nbconvert_exporter": "python",
   "pygments_lexer": "ipython3",
   "version": "3.11.6"
  }
 },
 "nbformat": 4,
 "nbformat_minor": 2
}
