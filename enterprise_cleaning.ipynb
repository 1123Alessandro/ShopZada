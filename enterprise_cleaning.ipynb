{
 "cells": [
  {
   "cell_type": "code",
   "execution_count": 2,
   "metadata": {},
   "outputs": [
    {
     "name": "stdout",
     "output_type": "stream",
     "text": [
      "Adding product_list.xlsx ...\n",
      "Adding user_credit_card.pickle ...\n",
      "Adding user_data.json ...\n",
      "Adding user_job.csv ...\n",
      "Adding merchant_data.html ...\n",
      "Adding order_with_merchant_data1.parquet ...\n",
      "Adding order_with_merchant_data2.parquet ...\n",
      "Adding order_with_merchant_data3.csv ...\n",
      "Adding staff_data.html ...\n",
      "Adding campaign_data.csv ...\n",
      "Adding transactional_campaign_data.csv ...\n",
      "Adding line_item_data_prices1.csv ...\n",
      "Adding line_item_data_prices2.csv ...\n",
      "Adding line_item_data_prices3.parquet ...\n",
      "Adding line_item_data_products1.csv ...\n",
      "Adding line_item_data_products2.csv ...\n",
      "Adding line_item_data_products3.parquet ...\n",
      "Adding order_data_20200101-20200701.parquet ...\n",
      "Adding order_data_20200701-20211001.pickle ...\n",
      "Adding order_data_20211001-20220101.csv ...\n",
      "Adding order_data_20220101-20221201.xlsx ...\n",
      "Adding order_data_20221201-20230601.json ...\n",
      "Adding order_data_20230601-20240101.html ...\n",
      "Adding order_delays.html ...\n",
      "\n",
      "\n",
      "\n",
      "--------------------------------------------------\n",
      "Read Complete\n",
      "Access the DataFrame of each file using the `all` dictionary\n",
      "e.g. all[\"filename\"]\n",
      "\n",
      "below are the available keys for access:\n",
      "1:\tproduct_list.xlsx\n",
      "2:\tuser_credit_card.pickle\n",
      "3:\tuser_data.json\n",
      "4:\tuser_job.csv\n",
      "5:\tmerchant_data.html\n",
      "6:\torder_with_merchant_data1.parquet\n",
      "7:\torder_with_merchant_data2.parquet\n",
      "8:\torder_with_merchant_data3.csv\n",
      "9:\tstaff_data.html\n",
      "10:\tcampaign_data.csv\n",
      "11:\ttransactional_campaign_data.csv\n",
      "12:\tline_item_data_prices1.csv\n",
      "13:\tline_item_data_prices2.csv\n",
      "14:\tline_item_data_prices3.parquet\n",
      "15:\tline_item_data_products1.csv\n",
      "16:\tline_item_data_products2.csv\n",
      "17:\tline_item_data_products3.parquet\n",
      "18:\torder_data_20200101-20200701.parquet\n",
      "19:\torder_data_20200701-20211001.pickle\n",
      "20:\torder_data_20211001-20220101.csv\n",
      "21:\torder_data_20220101-20221201.xlsx\n",
      "22:\torder_data_20221201-20230601.json\n",
      "23:\torder_data_20230601-20240101.html\n",
      "24:\torder_delays.html\n"
     ]
    }
   ],
   "source": [
    "import pandas as pd\n",
    "from scripts.load import *"
   ]
  },
  {
   "cell_type": "code",
   "execution_count": 3,
   "metadata": {},
   "outputs": [],
   "source": [
    "df_order1 = all['order_with_merchant_data1.parquet']\n",
    "df_order2 = all['order_with_merchant_data2.parquet']\n",
    "df_order3 = all['order_with_merchant_data3.csv']\n",
    "\n",
    "df_merchant_data = all['merchant_data.html'][0]\n",
    "\n",
    "df_staff = all['staff_data.html'][0]"
   ]
  },
  {
   "cell_type": "code",
   "execution_count": 4,
   "metadata": {},
   "outputs": [
    {
     "name": "stdout",
     "output_type": "stream",
     "text": [
      "(100000, 3)\n",
      "(200000, 3)\n",
      "(200000, 4)\n"
     ]
    }
   ],
   "source": [
    "print(df_order1.shape)\n",
    "print(df_order2.shape)\n",
    "print(df_order3.shape)"
   ]
  },
  {
   "cell_type": "code",
   "execution_count": 5,
   "metadata": {},
   "outputs": [],
   "source": [
    "#Drop unnecessary indexing\n",
    "df_order3 = df_order3.drop(columns=['Unnamed: 0'])"
   ]
  },
  {
   "cell_type": "code",
   "execution_count": 6,
   "metadata": {},
   "outputs": [],
   "source": [
    "#Combine all order files\n",
    "df_orders = pd.concat([df_order1, df_order2, df_order3], ignore_index=True)"
   ]
  },
  {
   "cell_type": "code",
   "execution_count": 7,
   "metadata": {},
   "outputs": [
    {
     "name": "stdout",
     "output_type": "stream",
     "text": [
      "(500000, 3)\n"
     ]
    },
    {
     "name": "stdout",
     "output_type": "stream",
     "text": [
      "order_id       500000\n",
      "merchant_id      4812\n",
      "staff_id         4794\n",
      "dtype: int64\n",
      "order_id       0\n",
      "merchant_id    0\n",
      "staff_id       0\n",
      "dtype: int64\n"
     ]
    }
   ],
   "source": [
    "#order_with_merchant_data 1-3 cleaned completely, to check:\n",
    "print(df_orders.shape)\n",
    "print(df_orders.nunique())\n",
    "print(df_orders.isna().sum())"
   ]
  },
  {
   "cell_type": "code",
   "execution_count": 8,
   "metadata": {},
   "outputs": [
    {
     "name": "stdout",
     "output_type": "stream",
     "text": [
      "(5000, 9)\n",
      "Unnamed: 0        5000\n",
      "merchant_id       4812\n",
      "creation_date     5000\n",
      "name               529\n",
      "street            5000\n",
      "state               50\n",
      "city                98\n",
      "country            249\n",
      "contact_number    5000\n",
      "dtype: int64\n",
      "Unnamed: 0        0\n",
      "merchant_id       0\n",
      "creation_date     0\n",
      "name              0\n",
      "street            0\n",
      "state             0\n",
      "city              0\n",
      "country           0\n",
      "contact_number    0\n",
      "dtype: int64\n"
     ]
    }
   ],
   "source": [
    "# Cleaning merchant data\n",
    "print(df_merchant_data.shape)\n",
    "print(df_merchant_data.nunique())\n",
    "print(df_merchant_data.isna().sum())"
   ]
  },
  {
   "cell_type": "code",
   "execution_count": null,
   "metadata": {},
   "outputs": [],
   "source": []
  }
 ],
 "metadata": {
  "kernelspec": {
   "display_name": "Python 3",
   "language": "python",
   "name": "python3"
  },
  "language_info": {
   "codemirror_mode": {
    "name": "ipython",
    "version": 3
   },
   "file_extension": ".py",
   "mimetype": "text/x-python",
   "name": "python",
   "nbconvert_exporter": "python",
   "pygments_lexer": "ipython3",
   "version": "3.11.6"
  }
 },
 "nbformat": 4,
 "nbformat_minor": 2
}
