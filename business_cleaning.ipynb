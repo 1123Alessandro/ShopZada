{
 "cells": [
  {
   "cell_type": "code",
   "execution_count": null,
   "id": "d24e803e-62b8-4010-a0c3-5a881c7a9522",
   "metadata": {},
   "outputs": [],
   "source": [
    "from scripts.load import *"
   ]
  },
  {
   "cell_type": "markdown",
   "id": "bd6169ee-6c1d-4e57-a768-7e8197d58452",
   "metadata": {},
   "source": [
    "## Cleaning `product_list.xlsx`"
   ]
  },
  {
   "cell_type": "code",
   "execution_count": null,
   "id": "45df3213-51a7-4ed5-9db0-56b3bef9a27d",
   "metadata": {},
   "outputs": [],
   "source": [
    "pl = all['product_list.xlsx']"
   ]
  },
  {
   "cell_type": "markdown",
   "id": "c2659fc4-6811-44f5-8513-f44ffbeb9e2f",
   "metadata": {},
   "source": [
    "Drop `Unnamed: 0` column"
   ]
  },
  {
   "cell_type": "code",
   "execution_count": null,
   "id": "90dcca0b-f96c-41bc-a1f2-d93fc70bfd85",
   "metadata": {},
   "outputs": [],
   "source": [
    "pl = pl.drop(columns=['Unnamed: 0'])"
   ]
  },
  {
   "cell_type": "markdown",
   "id": "ac72f55c-c474-4c24-aba2-06bbd7f23596",
   "metadata": {},
   "source": [
    "Below are the following products found with duplicates when filtered by `product_id`"
   ]
  },
  {
   "cell_type": "code",
   "execution_count": null,
   "id": "1fe809e4-6737-463a-aef1-122def8f44e2",
   "metadata": {},
   "outputs": [],
   "source": [
    "pl[pl.duplicated(['product_id'], False)]"
   ]
  },
  {
   "cell_type": "code",
   "execution_count": null,
   "id": "b77ec8fe-c21e-486e-bccb-f5a91a7980c7",
   "metadata": {},
   "outputs": [],
   "source": [
    "pl = pl.drop_duplicates(['product_id'])"
   ]
  },
  {
   "cell_type": "markdown",
   "id": "41ced3e8-50cf-4de0-b5dc-86f56ecf4a1c",
   "metadata": {},
   "source": [
    "Conforming `product_type`"
   ]
  },
  {
   "cell_type": "code",
   "execution_count": null,
   "id": "bdcaf037-eb81-4a20-84c4-916c0972a119",
   "metadata": {},
   "outputs": [],
   "source": [
    "import re\n",
    "\n",
    "def conform(x):\n",
    "    return re.sub('[_]', ' ', x)"
   ]
  },
  {
   "cell_type": "code",
   "execution_count": null,
   "id": "fb8fc936-c8e1-4ec3-a6f0-62e6ad11b777",
   "metadata": {},
   "outputs": [],
   "source": [
    "pt = pl.product_type\n",
    "pt = pt.mask(~pt.isna(), pt[~pt.isna()].apply(conform))\n",
    "pl.product_type = pt"
   ]
  },
  {
   "cell_type": "code",
   "execution_count": null,
   "id": "74ff09fa-3a6b-4452-b786-182990a822c8",
   "metadata": {},
   "outputs": [],
   "source": []
  }
 ],
 "metadata": {
  "kernelspec": {
   "display_name": "Python 3 (ipykernel)",
   "language": "python",
   "name": "python3"
  },
  "language_info": {
   "codemirror_mode": {
    "name": "ipython",
    "version": 3
   },
   "file_extension": ".py",
   "mimetype": "text/x-python",
   "name": "python",
   "nbconvert_exporter": "python",
   "pygments_lexer": "ipython3",
   "version": "3.10.5"
  }
 },
 "nbformat": 4,
 "nbformat_minor": 5
}
