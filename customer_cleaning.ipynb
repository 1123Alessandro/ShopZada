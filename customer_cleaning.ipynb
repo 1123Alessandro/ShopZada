{
 "cells": [
  {
   "cell_type": "code",
   "execution_count": null,
   "id": "9e45728b-66e3-4aa2-a667-8a2c0d632046",
   "metadata": {},
   "outputs": [],
   "source": [
    "from scripts.load import *"
   ]
  },
  {
   "cell_type": "markdown",
   "id": "b16d57a5-2046-4a43-b4a4-dfb0caa0b257",
   "metadata": {},
   "source": [
    "## Cleaning `user_credit_card.pickle`"
   ]
  },
  {
   "cell_type": "code",
   "execution_count": null,
   "id": "e323c11d-9fd3-43e6-babb-2fbe5d44594f",
   "metadata": {},
   "outputs": [],
   "source": [
    "ucc = all['user_credit_card.pickle']"
   ]
  },
  {
   "cell_type": "code",
   "execution_count": null,
   "id": "c33e93cb-75d2-4ee0-8720-0d55b2aaa6da",
   "metadata": {},
   "outputs": [],
   "source": [
    "ucc.shape"
   ]
  },
  {
   "cell_type": "markdown",
   "id": "1878902f-4134-4480-8dcd-9da8bc5631d4",
   "metadata": {},
   "source": [
    "Due to the unique nature of some names, even though their spelling (e.g. DuBuque, McKenzie, etc.) are proper, they will still be conformed"
   ]
  },
  {
   "cell_type": "code",
   "execution_count": null,
   "id": "e3f7aaee-404c-4631-9ec3-3cc776a75c71",
   "metadata": {},
   "outputs": [],
   "source": [
    "ucc.name = ucc.name.str.title()"
   ]
  },
  {
   "cell_type": "code",
   "execution_count": null,
   "id": "1e132e61-f278-45d1-920e-75d3012c01d4",
   "metadata": {},
   "outputs": [],
   "source": [
    "# check with this\n",
    "ucc[ucc.name.str.fullmatch('[A-Z][a-z]+ [A-Z][a-z]+')]"
   ]
  },
  {
   "cell_type": "markdown",
   "id": "8f8e7145-b0f3-4798-9b01-641e75ea805f",
   "metadata": {},
   "source": [
    "According to [this wikipedia page](https://en.wikipedia.org/wiki/Payment_card_number) (not the most reliable source) that credit card numbers are composed of 8 to 19 digits, anything less should be eliminated"
   ]
  },
  {
   "cell_type": "code",
   "execution_count": null,
   "id": "afb6540f-ca41-4b3a-b9f6-f2fa77f25460",
   "metadata": {},
   "outputs": [],
   "source": [
    "ucc = ucc.drop(ucc[ucc.credit_card_number < 10000000].index)"
   ]
  },
  {
   "cell_type": "code",
   "execution_count": null,
   "id": "5fe4fb51-05ec-4c94-a8be-756ef61b5775",
   "metadata": {},
   "outputs": [],
   "source": [
    "ucc = ucc.drop_duplicates(['user_id'])"
   ]
  },
  {
   "cell_type": "markdown",
   "id": "118d311c-25d4-46ee-999d-99f5d39b0fab",
   "metadata": {},
   "source": [
    "## Cleaning `user_data.json`"
   ]
  },
  {
   "cell_type": "code",
   "execution_count": null,
   "id": "85ac7f51-e994-47df-be53-03ecce2a7268",
   "metadata": {},
   "outputs": [],
   "source": [
    "ud = all['user_data.json']"
   ]
  },
  {
   "cell_type": "markdown",
   "id": "736dfb88-920b-4f85-b186-955285a7db57",
   "metadata": {},
   "source": [
    "Converting `creation_date`s to datetime values and cleaning up any suspicious dates"
   ]
  },
  {
   "cell_type": "code",
   "execution_count": null,
   "id": "b4f1bcb5-28e9-4bf4-b6c3-ac39280045e6",
   "metadata": {},
   "outputs": [],
   "source": [
    "ud.creation_date = pd.to_datetime(ud.creation_date)"
   ]
  },
  {
   "cell_type": "code",
   "execution_count": null,
   "id": "154983d3-24ce-44ff-84ce-1f91abfd3bbb",
   "metadata": {},
   "outputs": [],
   "source": [
    "ud[ud.creation_date >= pd.Timestamp.today()]"
   ]
  },
  {
   "cell_type": "markdown",
   "id": "92d178c0-9ab7-4780-a620-1ef1e870b0ba",
   "metadata": {},
   "source": [
    "Conforming names"
   ]
  },
  {
   "cell_type": "code",
   "execution_count": null,
   "id": "c830ea3e-9167-475d-af9c-7a2822815a7e",
   "metadata": {},
   "outputs": [],
   "source": [
    "ud.name = ud.name.str.title()"
   ]
  },
  {
   "cell_type": "markdown",
   "id": "013b29ab-154c-4345-aa70-87bc18cf84ba",
   "metadata": {},
   "source": [
    "According to slight research, these countries (e.g. `Korea, Republic of`, `Venezuela (Bolivarian Republic of)`, etc.), while non-conforming, are still proper but some will be conformed\n",
    "- an exception is `Cocos (Keeling) Islands` because they seem to have the `(Keeling)` String in most mentions of the country"
   ]
  },
  {
   "cell_type": "code",
   "execution_count": 274,
   "id": "552468c2-bda4-4113-9d64-ea8e0af5423b",
   "metadata": {},
   "outputs": [],
   "source": [
    "import re\n",
    "\n",
    "def conform(x):\n",
    "    a = re.search('(?P<country>[a-zA-Z ]+)[,][a-zA-Z ]+', x)\n",
    "    b = re.fullmatch('(?P<country>[a-zA-Z ]+)[(][a-zA-Z ]+[)]', x)\n",
    "    if a:\n",
    "        return a.group('country')\n",
    "    elif b:\n",
    "        return b.group('country')\n",
    "    else: \n",
    "        return x"
   ]
  },
  {
   "cell_type": "code",
   "execution_count": 275,
   "id": "03b72728-fb39-458b-93d2-7ccd521fa885",
   "metadata": {},
   "outputs": [],
   "source": [
    "ud.country = ud.country.apply(conform)"
   ]
  },
  {
   "cell_type": "code",
   "execution_count": null,
   "id": "cf75f665-2bfc-450c-b6b2-5e8736305080",
   "metadata": {},
   "outputs": [],
   "source": [
    "conv"
   ]
  },
  {
   "cell_type": "code",
   "execution_count": 277,
   "id": "a1bf0a7b-b6d9-46c7-b7f1-4c88c894bd14",
   "metadata": {},
   "outputs": [],
   "source": [
    "ud.birthdate = pd.to_datetime(ud.birthdate)"
   ]
  },
  {
   "cell_type": "code",
   "execution_count": 278,
   "id": "9c4a4018-0629-495c-856f-737d80b8dfe6",
   "metadata": {},
   "outputs": [
    {
     "data": {
      "text/html": [
       "<div>\n",
       "<style scoped>\n",
       "    .dataframe tbody tr th:only-of-type {\n",
       "        vertical-align: middle;\n",
       "    }\n",
       "\n",
       "    .dataframe tbody tr th {\n",
       "        vertical-align: top;\n",
       "    }\n",
       "\n",
       "    .dataframe thead th {\n",
       "        text-align: right;\n",
       "    }\n",
       "</style>\n",
       "<table border=\"1\" class=\"dataframe\">\n",
       "  <thead>\n",
       "    <tr style=\"text-align: right;\">\n",
       "      <th></th>\n",
       "      <th>user_id</th>\n",
       "      <th>creation_date</th>\n",
       "      <th>name</th>\n",
       "      <th>street</th>\n",
       "      <th>state</th>\n",
       "      <th>city</th>\n",
       "      <th>country</th>\n",
       "      <th>birthdate</th>\n",
       "      <th>gender</th>\n",
       "      <th>device_address</th>\n",
       "      <th>user_type</th>\n",
       "    </tr>\n",
       "  </thead>\n",
       "  <tbody>\n",
       "    <tr>\n",
       "      <th>0</th>\n",
       "      <td>USER40678</td>\n",
       "      <td>2021-03-17 22:56:13</td>\n",
       "      <td>Zion Feest</td>\n",
       "      <td>14938 West Trace side</td>\n",
       "      <td>New Jersey</td>\n",
       "      <td>Birmingham</td>\n",
       "      <td>Hong Kong</td>\n",
       "      <td>1998-04-06 05:29:37</td>\n",
       "      <td>male</td>\n",
       "      <td>17:fb:f2:60:94:4b</td>\n",
       "      <td>basic</td>\n",
       "    </tr>\n",
       "    <tr>\n",
       "      <th>1</th>\n",
       "      <td>USER08728</td>\n",
       "      <td>2022-10-10 12:53:20</td>\n",
       "      <td>Kattie Bergstrom</td>\n",
       "      <td>4476 West Haven fort</td>\n",
       "      <td>Alabama</td>\n",
       "      <td>Irvine</td>\n",
       "      <td>Mayotte</td>\n",
       "      <td>2003-05-22 11:16:19</td>\n",
       "      <td>male</td>\n",
       "      <td>b0:17:a7:0b:d6:67</td>\n",
       "      <td>premium</td>\n",
       "    </tr>\n",
       "    <tr>\n",
       "      <th>2</th>\n",
       "      <td>USER29759</td>\n",
       "      <td>2020-05-20 04:34:44</td>\n",
       "      <td>Aiden Corwin</td>\n",
       "      <td>59980 North Crest chester</td>\n",
       "      <td>North Carolina</td>\n",
       "      <td>Tampa</td>\n",
       "      <td>Iraq</td>\n",
       "      <td>2008-08-29 16:42:05</td>\n",
       "      <td>female</td>\n",
       "      <td>24:f2:0b:88:2f:bd</td>\n",
       "      <td>basic</td>\n",
       "    </tr>\n",
       "    <tr>\n",
       "      <th>3</th>\n",
       "      <td>USER16806</td>\n",
       "      <td>2021-05-28 07:36:30</td>\n",
       "      <td>Vince Gislason</td>\n",
       "      <td>541 Radial mouth</td>\n",
       "      <td>Illinois</td>\n",
       "      <td>Orlando</td>\n",
       "      <td>New Zealand</td>\n",
       "      <td>2012-02-09 14:12:37</td>\n",
       "      <td>male</td>\n",
       "      <td>a4:f5:fd:fe:07:f9</td>\n",
       "      <td>basic</td>\n",
       "    </tr>\n",
       "    <tr>\n",
       "      <th>4</th>\n",
       "      <td>USER27644</td>\n",
       "      <td>2023-03-16 19:25:35</td>\n",
       "      <td>Adele Okuneva</td>\n",
       "      <td>896 Glen bury</td>\n",
       "      <td>Arizona</td>\n",
       "      <td>Reno</td>\n",
       "      <td>Mexico</td>\n",
       "      <td>1976-10-13 00:53:54</td>\n",
       "      <td>male</td>\n",
       "      <td>ac:80:b3:bc:8d:5f</td>\n",
       "      <td>premium</td>\n",
       "    </tr>\n",
       "    <tr>\n",
       "      <th>...</th>\n",
       "      <td>...</td>\n",
       "      <td>...</td>\n",
       "      <td>...</td>\n",
       "      <td>...</td>\n",
       "      <td>...</td>\n",
       "      <td>...</td>\n",
       "      <td>...</td>\n",
       "      <td>...</td>\n",
       "      <td>...</td>\n",
       "      <td>...</td>\n",
       "      <td>...</td>\n",
       "    </tr>\n",
       "    <tr>\n",
       "      <th>4995</th>\n",
       "      <td>USER49969</td>\n",
       "      <td>2021-11-18 19:04:30</td>\n",
       "      <td>Kendall Waelchi</td>\n",
       "      <td>792 North Manors haven</td>\n",
       "      <td>Florida</td>\n",
       "      <td>San Diego</td>\n",
       "      <td>Jersey</td>\n",
       "      <td>1996-03-11 09:05:32</td>\n",
       "      <td>female</td>\n",
       "      <td>8e:57:7e:62:90:b4</td>\n",
       "      <td>basic</td>\n",
       "    </tr>\n",
       "    <tr>\n",
       "      <th>4996</th>\n",
       "      <td>USER57209</td>\n",
       "      <td>2022-03-27 09:17:43</td>\n",
       "      <td>Lucious Kshlerin</td>\n",
       "      <td>48282 Burgs chester</td>\n",
       "      <td>Kentucky</td>\n",
       "      <td>Garland</td>\n",
       "      <td>Ethiopia</td>\n",
       "      <td>2013-07-07 08:53:27</td>\n",
       "      <td>female</td>\n",
       "      <td>00:35:b5:e4:e1:aa</td>\n",
       "      <td>basic</td>\n",
       "    </tr>\n",
       "    <tr>\n",
       "      <th>4997</th>\n",
       "      <td>USER36424</td>\n",
       "      <td>2022-10-05 21:36:56</td>\n",
       "      <td>Cordie Jenkins</td>\n",
       "      <td>8928 North Mountains haven</td>\n",
       "      <td>North Dakota</td>\n",
       "      <td>Scottsdale</td>\n",
       "      <td>Tonga</td>\n",
       "      <td>1991-05-18 05:07:36</td>\n",
       "      <td>male</td>\n",
       "      <td>0b:0d:57:d6:c1:ab</td>\n",
       "      <td>basic</td>\n",
       "    </tr>\n",
       "    <tr>\n",
       "      <th>4998</th>\n",
       "      <td>USER45166</td>\n",
       "      <td>2020-07-20 03:51:41</td>\n",
       "      <td>Tyrel Feil</td>\n",
       "      <td>920 New Manor port</td>\n",
       "      <td>Rhode Island</td>\n",
       "      <td>Arlington</td>\n",
       "      <td>Virgin Islands (U.S.)</td>\n",
       "      <td>1975-12-19 02:27:16</td>\n",
       "      <td>male</td>\n",
       "      <td>83:c9:1e:4e:52:f4</td>\n",
       "      <td>premium</td>\n",
       "    </tr>\n",
       "    <tr>\n",
       "      <th>4999</th>\n",
       "      <td>USER54154</td>\n",
       "      <td>2020-05-13 08:43:26</td>\n",
       "      <td>Betty Zieme</td>\n",
       "      <td>19808 North Pass side</td>\n",
       "      <td>Colorado</td>\n",
       "      <td>Detroit</td>\n",
       "      <td>Zambia</td>\n",
       "      <td>2010-02-21 02:56:06</td>\n",
       "      <td>female</td>\n",
       "      <td>4c:fb:dc:fb:b7:e7</td>\n",
       "      <td>premium</td>\n",
       "    </tr>\n",
       "  </tbody>\n",
       "</table>\n",
       "<p>5000 rows × 11 columns</p>\n",
       "</div>"
      ],
      "text/plain": [
       "        user_id       creation_date              name  \\\n",
       "0     USER40678 2021-03-17 22:56:13        Zion Feest   \n",
       "1     USER08728 2022-10-10 12:53:20  Kattie Bergstrom   \n",
       "2     USER29759 2020-05-20 04:34:44      Aiden Corwin   \n",
       "3     USER16806 2021-05-28 07:36:30    Vince Gislason   \n",
       "4     USER27644 2023-03-16 19:25:35     Adele Okuneva   \n",
       "...         ...                 ...               ...   \n",
       "4995  USER49969 2021-11-18 19:04:30   Kendall Waelchi   \n",
       "4996  USER57209 2022-03-27 09:17:43  Lucious Kshlerin   \n",
       "4997  USER36424 2022-10-05 21:36:56    Cordie Jenkins   \n",
       "4998  USER45166 2020-07-20 03:51:41        Tyrel Feil   \n",
       "4999  USER54154 2020-05-13 08:43:26       Betty Zieme   \n",
       "\n",
       "                          street           state        city  \\\n",
       "0          14938 West Trace side      New Jersey  Birmingham   \n",
       "1           4476 West Haven fort         Alabama      Irvine   \n",
       "2      59980 North Crest chester  North Carolina       Tampa   \n",
       "3               541 Radial mouth        Illinois     Orlando   \n",
       "4                  896 Glen bury         Arizona        Reno   \n",
       "...                          ...             ...         ...   \n",
       "4995      792 North Manors haven         Florida   San Diego   \n",
       "4996         48282 Burgs chester        Kentucky     Garland   \n",
       "4997  8928 North Mountains haven    North Dakota  Scottsdale   \n",
       "4998          920 New Manor port    Rhode Island   Arlington   \n",
       "4999       19808 North Pass side        Colorado     Detroit   \n",
       "\n",
       "                    country           birthdate  gender     device_address  \\\n",
       "0                 Hong Kong 1998-04-06 05:29:37    male  17:fb:f2:60:94:4b   \n",
       "1                   Mayotte 2003-05-22 11:16:19    male  b0:17:a7:0b:d6:67   \n",
       "2                      Iraq 2008-08-29 16:42:05  female  24:f2:0b:88:2f:bd   \n",
       "3               New Zealand 2012-02-09 14:12:37    male  a4:f5:fd:fe:07:f9   \n",
       "4                    Mexico 1976-10-13 00:53:54    male  ac:80:b3:bc:8d:5f   \n",
       "...                     ...                 ...     ...                ...   \n",
       "4995                 Jersey 1996-03-11 09:05:32  female  8e:57:7e:62:90:b4   \n",
       "4996               Ethiopia 2013-07-07 08:53:27  female  00:35:b5:e4:e1:aa   \n",
       "4997                  Tonga 1991-05-18 05:07:36    male  0b:0d:57:d6:c1:ab   \n",
       "4998  Virgin Islands (U.S.) 1975-12-19 02:27:16    male  83:c9:1e:4e:52:f4   \n",
       "4999                 Zambia 2010-02-21 02:56:06  female  4c:fb:dc:fb:b7:e7   \n",
       "\n",
       "     user_type  \n",
       "0        basic  \n",
       "1      premium  \n",
       "2        basic  \n",
       "3        basic  \n",
       "4      premium  \n",
       "...        ...  \n",
       "4995     basic  \n",
       "4996     basic  \n",
       "4997     basic  \n",
       "4998   premium  \n",
       "4999   premium  \n",
       "\n",
       "[5000 rows x 11 columns]"
      ]
     },
     "execution_count": 278,
     "metadata": {},
     "output_type": "execute_result"
    }
   ],
   "source": [
    "ud"
   ]
  }
 ],
 "metadata": {
  "kernelspec": {
   "display_name": "Python 3 (ipykernel)",
   "language": "python",
   "name": "python3"
  },
  "language_info": {
   "codemirror_mode": {
    "name": "ipython",
    "version": 3
   },
   "file_extension": ".py",
   "mimetype": "text/x-python",
   "name": "python",
   "nbconvert_exporter": "python",
   "pygments_lexer": "ipython3",
   "version": "3.10.5"
  }
 },
 "nbformat": 4,
 "nbformat_minor": 5
}
