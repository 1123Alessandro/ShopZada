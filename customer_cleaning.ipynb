{
 "cells": [
  {
   "cell_type": "code",
   "execution_count": null,
   "id": "9e45728b-66e3-4aa2-a667-8a2c0d632046",
   "metadata": {},
   "outputs": [],
   "source": [
    "from scripts.load import *"
   ]
  },
  {
   "cell_type": "markdown",
   "id": "b16d57a5-2046-4a43-b4a4-dfb0caa0b257",
   "metadata": {},
   "source": [
    "## Cleaning `user_credit_card.pickle`"
   ]
  },
  {
   "cell_type": "code",
   "execution_count": null,
   "id": "e323c11d-9fd3-43e6-babb-2fbe5d44594f",
   "metadata": {},
   "outputs": [],
   "source": [
    "ucc = all['user_credit_card.pickle']"
   ]
  },
  {
   "cell_type": "code",
   "execution_count": null,
   "id": "c33e93cb-75d2-4ee0-8720-0d55b2aaa6da",
   "metadata": {},
   "outputs": [],
   "source": [
    "ucc.shape"
   ]
  },
  {
   "cell_type": "markdown",
   "id": "1878902f-4134-4480-8dcd-9da8bc5631d4",
   "metadata": {},
   "source": [
    "Due to the unique nature of some names, even though their spelling (e.g. DuBuque, McKenzie, etc.) are proper, they will still be conformed"
   ]
  },
  {
   "cell_type": "code",
   "execution_count": null,
   "id": "e3f7aaee-404c-4631-9ec3-3cc776a75c71",
   "metadata": {},
   "outputs": [],
   "source": [
    "ucc.name = ucc.name.str.title()"
   ]
  },
  {
   "cell_type": "code",
   "execution_count": null,
   "id": "1e132e61-f278-45d1-920e-75d3012c01d4",
   "metadata": {},
   "outputs": [],
   "source": [
    "# check with this\n",
    "ucc[ucc.name.str.fullmatch('[A-Z][a-z]+ [A-Z][a-z]+')]"
   ]
  },
  {
   "cell_type": "markdown",
   "id": "8f8e7145-b0f3-4798-9b01-641e75ea805f",
   "metadata": {},
   "source": [
    "According to [this wikipedia page](https://en.wikipedia.org/wiki/Payment_card_number) (not the most reliable source) that credit card numbers are composed of 8 to 19 digits, anything less should be eliminated"
   ]
  },
  {
   "cell_type": "code",
   "execution_count": null,
   "id": "afb6540f-ca41-4b3a-b9f6-f2fa77f25460",
   "metadata": {},
   "outputs": [],
   "source": [
    "ucc = ucc.drop(ucc[ucc.credit_card_number < 10000000].index)"
   ]
  },
  {
   "cell_type": "code",
   "execution_count": null,
   "id": "5fe4fb51-05ec-4c94-a8be-756ef61b5775",
   "metadata": {},
   "outputs": [],
   "source": [
    "ucc = ucc.drop_duplicates(['user_id'])"
   ]
  },
  {
   "cell_type": "markdown",
   "id": "118d311c-25d4-46ee-999d-99f5d39b0fab",
   "metadata": {},
   "source": [
    "## Cleaning `user_data.json`"
   ]
  },
  {
   "cell_type": "code",
   "execution_count": null,
   "id": "85ac7f51-e994-47df-be53-03ecce2a7268",
   "metadata": {},
   "outputs": [],
   "source": [
    "ud = all['user_data.json']"
   ]
  },
  {
   "cell_type": "markdown",
   "id": "736dfb88-920b-4f85-b186-955285a7db57",
   "metadata": {},
   "source": [
    "Converting `creation_date`s to datetime values and cleaning up any suspicious dates"
   ]
  },
  {
   "cell_type": "code",
   "execution_count": null,
   "id": "b4f1bcb5-28e9-4bf4-b6c3-ac39280045e6",
   "metadata": {},
   "outputs": [],
   "source": [
    "ud.creation_date = pd.to_datetime(ud.creation_date)"
   ]
  },
  {
   "cell_type": "code",
   "execution_count": null,
   "id": "154983d3-24ce-44ff-84ce-1f91abfd3bbb",
   "metadata": {},
   "outputs": [],
   "source": [
    "ud[ud.creation_date >= pd.Timestamp.today()]"
   ]
  },
  {
   "cell_type": "markdown",
   "id": "92d178c0-9ab7-4780-a620-1ef1e870b0ba",
   "metadata": {},
   "source": [
    "Conforming names"
   ]
  },
  {
   "cell_type": "code",
   "execution_count": null,
   "id": "c830ea3e-9167-475d-af9c-7a2822815a7e",
   "metadata": {},
   "outputs": [],
   "source": [
    "ud.name = ud.name.str.title()"
   ]
  },
  {
   "cell_type": "markdown",
   "id": "013b29ab-154c-4345-aa70-87bc18cf84ba",
   "metadata": {},
   "source": [
    "According to slight research, these countries (e.g. `Korea, Republic of`, `Venezuela (Bolivarian Republic of)`, etc.), while non-conforming, are still proper but some will be conformed\n",
    "- an exception is `Cocos (Keeling) Islands` because they seem to have the `(Keeling)` String in most mentions of the country"
   ]
  },
  {
   "cell_type": "code",
   "execution_count": null,
   "id": "552468c2-bda4-4113-9d64-ea8e0af5423b",
   "metadata": {},
   "outputs": [],
   "source": [
    "import re\n",
    "\n",
    "def conform(x):\n",
    "    a = re.search('(?P<country>[a-zA-Z ]+)[,][a-zA-Z ]+', x)\n",
    "    b = re.fullmatch('(?P<country>[a-zA-Z ]+)[(][a-zA-Z ]+[)]', x)\n",
    "    if a:\n",
    "        return a.group('country')\n",
    "    elif b:\n",
    "        return b.group('country')\n",
    "    else: \n",
    "        return x"
   ]
  },
  {
   "cell_type": "code",
   "execution_count": null,
   "id": "03b72728-fb39-458b-93d2-7ccd521fa885",
   "metadata": {},
   "outputs": [],
   "source": [
    "ud.country = ud.country.apply(conform)"
   ]
  },
  {
   "attachments": {},
   "cell_type": "markdown",
   "id": "fab56ca0-45a9-4f8d-a3b6-53a58dab3957",
   "metadata": {},
   "source": [
    "Converting `birthdate` to a datetime value"
   ]
  },
  {
   "cell_type": "code",
   "execution_count": null,
   "id": "f53e8851-95db-4ce4-80b6-85e89acb7677",
   "metadata": {},
   "outputs": [],
   "source": [
    "ud.birthdate = pd.to_datetime(ud.birthdate)"
   ]
  },
  {
   "cell_type": "code",
   "execution_count": null,
   "id": "9bbf0cc2-b858-433d-9d1d-b5fa23f551bc",
   "metadata": {},
   "outputs": [],
   "source": [
    "ud = ud.drop_duplicates(['user_id'])"
   ]
  },
  {
   "cell_type": "markdown",
   "id": "ba943329-e245-4fea-a73f-931b6dee3382",
   "metadata": {},
   "source": [
    "## Cleaning `user_job.csv`"
   ]
  },
  {
   "cell_type": "code",
   "execution_count": null,
   "id": "0521ab7e-421f-439b-ab55-1298f6f8abd9",
   "metadata": {},
   "outputs": [],
   "source": [
    "uj = all['user_job.csv']"
   ]
  },
  {
   "cell_type": "markdown",
   "id": "571a94a8-7979-4256-83e5-c2fe24b65463",
   "metadata": {},
   "source": [
    "Dropping `Unnamed: 0` column"
   ]
  },
  {
   "cell_type": "code",
   "execution_count": null,
   "id": "560c3f03-4477-4ded-8756-6132da1a1325",
   "metadata": {},
   "outputs": [],
   "source": [
    "uj = uj.drop(columns=['Unnamed: 0'])"
   ]
  },
  {
   "cell_type": "markdown",
   "id": "75cced11-7baf-4869-be66-83ecbc2a09a7",
   "metadata": {},
   "source": [
    "Conforming `name` values"
   ]
  },
  {
   "cell_type": "code",
   "execution_count": null,
   "id": "358185a9-a1e2-4103-a0e3-b87855a29a37",
   "metadata": {},
   "outputs": [],
   "source": [
    "uj.name = uj.name.str.title()"
   ]
  },
  {
   "cell_type": "code",
   "execution_count": null,
   "id": "6d570d8e-2ec3-4d3c-af35-ad31a93d4ff6",
   "metadata": {},
   "outputs": [],
   "source": [
    "uj = uj.drop_duplicates(['user_id'])"
   ]
  }
 ],
 "metadata": {
  "kernelspec": {
   "display_name": "Python 3 (ipykernel)",
   "language": "python",
   "name": "python3"
  },
  "language_info": {
   "codemirror_mode": {
    "name": "ipython",
    "version": 3
   },
   "file_extension": ".py",
   "mimetype": "text/x-python",
   "name": "python",
   "nbconvert_exporter": "python",
   "pygments_lexer": "ipython3",
   "version": "3.10.5"
  }
 },
 "nbformat": 4,
 "nbformat_minor": 5
}
